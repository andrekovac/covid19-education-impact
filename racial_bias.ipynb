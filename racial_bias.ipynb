{
 "cells": [
  {
   "cell_type": "code",
   "execution_count": 1,
   "id": "f68ff5a6",
   "metadata": {
    "ExecuteTime": {
     "start_time": "2021-09-17T18:41:08.980Z"
    }
   },
   "outputs": [],
   "source": [
    "#!python -m pip install mitoinstaller\n",
    "#!python -m mitoinstaller install"
   ]
  },
  {
   "cell_type": "code",
   "execution_count": 1,
   "id": "7f7046e8",
   "metadata": {
    "ExecuteTime": {
     "end_time": "2021-09-17T18:35:49.030452Z",
     "start_time": "2021-09-17T18:35:48.511969Z"
    }
   },
   "outputs": [],
   "source": [
    "# Import of packages\n",
    "import numpy as np\n",
    "import pandas as pd\n",
    "import seaborn as sns\n",
    "import matplotlib.pyplot as plt\n",
    "\n",
    "from pathlib import Path\n",
    "# from pandas_profiling import ProfileReport\n",
    "data_dir = Path(\"./data\")"
   ]
  },
  {
   "cell_type": "markdown",
   "id": "212b74ce-7b8a-48f8-a781-9cd658517cd8",
   "metadata": {
    "tags": []
   },
   "source": [
    "<div style=\"background-color: #f0f0f0; padding: 10px; border: 2px solid #4a4a4a; border-radius: 5px\">\n",
    "  <h1 style=\"color: #3b3b3b\">🤓📚 Exploring the impact of Covid19 on Online Education</h1>\n",
    "</div>"
   ]
  },
  {
   "cell_type": "markdown",
   "id": "4f36b473-487c-4964-b7b9-9fdf2e36110b",
   "metadata": {
    "tags": []
   },
   "source": [
    "<div style=\"background-color: #f0f0f0; padding: 10px; border: 2px solid #4a4a4a; border-radius: 5px\">\n",
    "<h2 style=\"color: #3b3b3b\">🌎 Overview</h2>\n",
    "\n",
    "<h3 style=\"color: #3b3b3b\">🤔💭 Research question</h3>\n",
    "\n",
    "**Does race or economical background of a district play a role in online learning adoption?**\n",
    "\n",
    "To answer this question we'll...\n",
    "    \n",
    "1. ...create a metric to compare privileged from underserved districts\n",
    "2. ...compare engagement pre- and post-Covid19 in each group\n",
    "3. ...compare the two groups to each other\n",
    "\n",
    "<h3 style=\"color: #3b3b3b\">🗓📌 Available data</h3>\n",
    "\n",
    "<h4 style=\"color: #3b3b3b\">What does the data include?</h4>\n",
    "\n",
    "- Two measures of learning engagement  (`pct_access` and `engagement_index`) aggregated over **234** US school districts.\n",
    "- The top **372** ed-tech products (out of **10000**) identified by the Chrome browser extension [learnplatform](https://learnplatform.com/).\n",
    "\n",
    "\n",
    "<h4 style=\"color: #3b3b3b\">💪 Engagement data</h4>\n",
    "    \n",
    "How engaged students are given a tool and a district.\n",
    "\n",
    "| Name             | Description |\n",
    "|------------------|-------------|\n",
    "| time             | date in \"YYYY-MM-DD\" |\n",
    "| lp_id            | The unique identifier of the product |\n",
    "| pct_access       | Occurance/absence of engagement. Ratio of engaged students |\n",
    "| engagement_index | Engagement level |\n",
    "\n",
    "<h5 style=\"color: #3b3b3b\">Analysis of `pct_access` and `engagement_index` values</h5>\n",
    "\n",
    "- `pct_access`: Percentage of students in the district have at least one page-load event of a given product and on a given day\n",
    "\n",
    "    - **What?**: Indication of the number of students who engage with online education tools.\n",
    "    - **Example**: 15% of students in a district in Utah engaged at least once with Google Docs on Monday April 14.\n",
    "    - **Discussion**: There are values > 1. This probably indicates usage of multiple devices?!\n",
    "\n",
    "- `engagement_index`: Total page-load events per one thousand students of a given product and on a given day\n",
    "\n",
    "    - **What?**: Indication of how actively products are used. popular certain products are - not by how many students they .\n",
    "    - **Example**: In a district in Colorado 341 Google Docs pages were loade per 1000 students on Monday April 14.\n",
    "\n",
    "<h4 style=\"color: #3b3b3b\">🌆🏡 District data </h4>\n",
    "    \n",
    "Information about **234** school districts in which the students' data was collected.\n",
    "\n",
    "| Name                   | Description |\n",
    "|------------------------|-------------|\n",
    "| district_id            | The unique identifier of the school district |\n",
    "| state                  | The state where district is located |\n",
    "| locale                 | District classification: City, Suburban, Town or Rural |\n",
    "| pct_black/hispanic     | Percentage of students in the districts identified as Black or Hispanic |\n",
    "| pct_free/reduced       | Percentage of students in the districts eligible for free or reduced-price lunch  |\n",
    "| countyconnectionsratio | ratio (residential fixed high-speed connections over 200 kbps in at least one direction/households) |\n",
    "| pptotalraw             | Per-pupil total expenditure paid by schools (sum of local and federal expenditure) as median over all schools in district |\n",
    "\n",
    "    \n",
    "<h5 style=\"color: #3b3b3b\">Privileged vs. underserved districts</h5>\n",
    "\n",
    "Districts have different demographics. We used the `pct_black/hispanic` and `pct_free/reduced` data to compute a metric of underserved districts to explory whether Covid19 had a greater impact on either group.\n",
    "\n",
    "</div>"
   ]
  },
  {
   "cell_type": "markdown",
   "id": "faf85341",
   "metadata": {
    "tags": []
   },
   "source": [
    "<div style=\"background-color: #f0f0f0; padding: 10px; border: 2px solid #4a4a4a; border-radius: 5px\">\n",
    "\n",
    "<h2 style=\"color: #3b3b3b\">🏁 Initial steps</h2>\n",
    "\n",
    "<h3 style=\"color: #3b3b3b\">💽 Engagement data for all districts: Load and concatenate</h3>\n",
    "\n",
    "Before we begin with the fun part we have to load all the data we need and get it into a shape we can work with.\n",
    "\n",
    "</div>"
   ]
  },
  {
   "cell_type": "code",
   "execution_count": 2,
   "id": "4ad83a46",
   "metadata": {
    "ExecuteTime": {
     "end_time": "2021-09-17T18:36:02.578674Z",
     "start_time": "2021-09-17T18:35:52.208367Z"
    }
   },
   "outputs": [
    {
     "data": {
      "text/html": [
       "<div>\n",
       "<style scoped>\n",
       "    .dataframe tbody tr th:only-of-type {\n",
       "        vertical-align: middle;\n",
       "    }\n",
       "\n",
       "    .dataframe tbody tr th {\n",
       "        vertical-align: top;\n",
       "    }\n",
       "\n",
       "    .dataframe thead th {\n",
       "        text-align: right;\n",
       "    }\n",
       "</style>\n",
       "<table border=\"1\" class=\"dataframe\">\n",
       "  <thead>\n",
       "    <tr style=\"text-align: right;\">\n",
       "      <th></th>\n",
       "      <th>time</th>\n",
       "      <th>lp_id</th>\n",
       "      <th>pct_access</th>\n",
       "      <th>engagement_index</th>\n",
       "      <th>district_id</th>\n",
       "    </tr>\n",
       "  </thead>\n",
       "  <tbody>\n",
       "    <tr>\n",
       "      <th>0</th>\n",
       "      <td>2020-01-01</td>\n",
       "      <td>29322.0</td>\n",
       "      <td>0.04</td>\n",
       "      <td>1.30</td>\n",
       "      <td>3188</td>\n",
       "    </tr>\n",
       "    <tr>\n",
       "      <th>1</th>\n",
       "      <td>2020-01-01</td>\n",
       "      <td>57084.0</td>\n",
       "      <td>0.04</td>\n",
       "      <td>0.43</td>\n",
       "      <td>3188</td>\n",
       "    </tr>\n",
       "    <tr>\n",
       "      <th>2</th>\n",
       "      <td>2020-01-01</td>\n",
       "      <td>99916.0</td>\n",
       "      <td>0.09</td>\n",
       "      <td>5.20</td>\n",
       "      <td>3188</td>\n",
       "    </tr>\n",
       "    <tr>\n",
       "      <th>3</th>\n",
       "      <td>2020-01-01</td>\n",
       "      <td>58235.0</td>\n",
       "      <td>0.00</td>\n",
       "      <td>NaN</td>\n",
       "      <td>3188</td>\n",
       "    </tr>\n",
       "    <tr>\n",
       "      <th>4</th>\n",
       "      <td>2020-01-01</td>\n",
       "      <td>11585.0</td>\n",
       "      <td>0.04</td>\n",
       "      <td>1.30</td>\n",
       "      <td>3188</td>\n",
       "    </tr>\n",
       "  </tbody>\n",
       "</table>\n",
       "</div>"
      ],
      "text/plain": [
       "         time    lp_id  pct_access  engagement_index district_id\n",
       "0  2020-01-01  29322.0        0.04              1.30        3188\n",
       "1  2020-01-01  57084.0        0.04              0.43        3188\n",
       "2  2020-01-01  99916.0        0.09              5.20        3188\n",
       "3  2020-01-01  58235.0        0.00               NaN        3188\n",
       "4  2020-01-01  11585.0        0.04              1.30        3188"
      ]
     },
     "execution_count": 2,
     "metadata": {},
     "output_type": "execute_result"
    }
   ],
   "source": [
    "import glob\n",
    "import pandas as pd \n",
    "\n",
    "all_file_names = list(data_dir.glob(\"engagement_data/*.csv\"))\n",
    "data_of_district = []\n",
    "\n",
    "for filename in all_file_names:\n",
    "    df = pd.read_csv(filename, index_col=None, header=0)\n",
    "    district_id = filename.stem\n",
    "    df[\"district_id\"] = district_id\n",
    "    data_of_district.append(df)\n",
    "\n",
    "engagement = pd.concat(data_of_district)\n",
    "engagement = engagement.reset_index(drop=True)\n",
    "engagement.head()"
   ]
  },
  {
   "cell_type": "markdown",
   "id": "0d936f54-8dcb-436a-8812-3e42ee265d3e",
   "metadata": {},
   "source": [
    "<div style=\"background-color: #f0f0f0; padding: 10px; border: 2px solid #4a4a4a; border-radius: 5px\">\n",
    "\n",
    "<h3 style=\"color: #3b3b3b\">📍🏞 Districts data: Load + drop missing data</h3>\n",
    "\n",
    "</div>"
   ]
  },
  {
   "cell_type": "code",
   "execution_count": 3,
   "id": "3124846e",
   "metadata": {
    "ExecuteTime": {
     "end_time": "2021-09-17T18:36:02.715223Z",
     "start_time": "2021-09-17T18:36:02.696773Z"
    }
   },
   "outputs": [
    {
     "data": {
      "text/html": [
       "<div>\n",
       "<style scoped>\n",
       "    .dataframe tbody tr th:only-of-type {\n",
       "        vertical-align: middle;\n",
       "    }\n",
       "\n",
       "    .dataframe tbody tr th {\n",
       "        vertical-align: top;\n",
       "    }\n",
       "\n",
       "    .dataframe thead th {\n",
       "        text-align: right;\n",
       "    }\n",
       "</style>\n",
       "<table border=\"1\" class=\"dataframe\">\n",
       "  <thead>\n",
       "    <tr style=\"text-align: right;\">\n",
       "      <th></th>\n",
       "      <th>district_id</th>\n",
       "      <th>state</th>\n",
       "      <th>locale</th>\n",
       "      <th>pct_black/hispanic</th>\n",
       "      <th>pct_free/reduced</th>\n",
       "      <th>county_connections_ratio</th>\n",
       "      <th>pp_total_raw</th>\n",
       "    </tr>\n",
       "  </thead>\n",
       "  <tbody>\n",
       "    <tr>\n",
       "      <th>0</th>\n",
       "      <td>8815</td>\n",
       "      <td>Illinois</td>\n",
       "      <td>Suburb</td>\n",
       "      <td>[0, 0.2[</td>\n",
       "      <td>[0, 0.2[</td>\n",
       "      <td>[0.18, 1[</td>\n",
       "      <td>[14000, 16000[</td>\n",
       "    </tr>\n",
       "    <tr>\n",
       "      <th>2</th>\n",
       "      <td>4921</td>\n",
       "      <td>Utah</td>\n",
       "      <td>Suburb</td>\n",
       "      <td>[0, 0.2[</td>\n",
       "      <td>[0.2, 0.4[</td>\n",
       "      <td>[0.18, 1[</td>\n",
       "      <td>[6000, 8000[</td>\n",
       "    </tr>\n",
       "    <tr>\n",
       "      <th>5</th>\n",
       "      <td>5987</td>\n",
       "      <td>Wisconsin</td>\n",
       "      <td>Suburb</td>\n",
       "      <td>[0, 0.2[</td>\n",
       "      <td>[0, 0.2[</td>\n",
       "      <td>[0.18, 1[</td>\n",
       "      <td>[10000, 12000[</td>\n",
       "    </tr>\n",
       "    <tr>\n",
       "      <th>6</th>\n",
       "      <td>3710</td>\n",
       "      <td>Utah</td>\n",
       "      <td>Suburb</td>\n",
       "      <td>[0, 0.2[</td>\n",
       "      <td>[0.4, 0.6[</td>\n",
       "      <td>[0.18, 1[</td>\n",
       "      <td>[6000, 8000[</td>\n",
       "    </tr>\n",
       "    <tr>\n",
       "      <th>7</th>\n",
       "      <td>7177</td>\n",
       "      <td>North Carolina</td>\n",
       "      <td>Suburb</td>\n",
       "      <td>[0.2, 0.4[</td>\n",
       "      <td>[0.2, 0.4[</td>\n",
       "      <td>[0.18, 1[</td>\n",
       "      <td>[8000, 10000[</td>\n",
       "    </tr>\n",
       "  </tbody>\n",
       "</table>\n",
       "</div>"
      ],
      "text/plain": [
       "   district_id           state  locale pct_black/hispanic pct_free/reduced  \\\n",
       "0         8815        Illinois  Suburb           [0, 0.2[         [0, 0.2[   \n",
       "2         4921            Utah  Suburb           [0, 0.2[       [0.2, 0.4[   \n",
       "5         5987       Wisconsin  Suburb           [0, 0.2[         [0, 0.2[   \n",
       "6         3710            Utah  Suburb           [0, 0.2[       [0.4, 0.6[   \n",
       "7         7177  North Carolina  Suburb         [0.2, 0.4[       [0.2, 0.4[   \n",
       "\n",
       "  county_connections_ratio    pp_total_raw  \n",
       "0                [0.18, 1[  [14000, 16000[  \n",
       "2                [0.18, 1[    [6000, 8000[  \n",
       "5                [0.18, 1[  [10000, 12000[  \n",
       "6                [0.18, 1[    [6000, 8000[  \n",
       "7                [0.18, 1[   [8000, 10000[  "
      ]
     },
     "execution_count": 3,
     "metadata": {},
     "output_type": "execute_result"
    }
   ],
   "source": [
    "districts = pd.read_csv(data_dir /\"districts_info.csv\")\n",
    "districts.dropna(inplace = True)\n",
    "districts.head()"
   ]
  },
  {
   "cell_type": "markdown",
   "id": "ea0670a3",
   "metadata": {},
   "source": [
    "<div style=\"background-color: #f0f0f0; padding: 10px; border: 2px solid #4a4a4a; border-radius: 5px\">\n",
    "\n",
    "<h3 style=\"color: #3b3b3b\">⚖️ Districts data: Average anonymized data ranges</h3>\n",
    "    \n",
    "District data got heavily anonymized to conceal the identity of a district.\n",
    "\n",
    "This lead to the following **side-effects**:\n",
    "\n",
    "- Exact data points of several columns got replaced by equally spaced ranges\n",
    "- Many missing values.\n",
    "\n",
    "Before running analyses on the data we replace each range by its mean value:\n",
    "\n",
    "</div>"
   ]
  },
  {
   "cell_type": "code",
   "execution_count": 4,
   "id": "260ea7e0",
   "metadata": {
    "ExecuteTime": {
     "end_time": "2021-09-17T18:36:02.744293Z",
     "start_time": "2021-09-17T18:36:02.717528Z"
    },
    "tags": []
   },
   "outputs": [
    {
     "data": {
      "text/html": [
       "<div>\n",
       "<style scoped>\n",
       "    .dataframe tbody tr th:only-of-type {\n",
       "        vertical-align: middle;\n",
       "    }\n",
       "\n",
       "    .dataframe tbody tr th {\n",
       "        vertical-align: top;\n",
       "    }\n",
       "\n",
       "    .dataframe thead th {\n",
       "        text-align: right;\n",
       "    }\n",
       "</style>\n",
       "<table border=\"1\" class=\"dataframe\">\n",
       "  <thead>\n",
       "    <tr style=\"text-align: right;\">\n",
       "      <th></th>\n",
       "      <th>district_id</th>\n",
       "      <th>state</th>\n",
       "      <th>locale</th>\n",
       "      <th>pct_black/hispanic</th>\n",
       "      <th>pct_free/reduced</th>\n",
       "      <th>county_connections_ratio</th>\n",
       "      <th>pp_total_raw</th>\n",
       "    </tr>\n",
       "  </thead>\n",
       "  <tbody>\n",
       "    <tr>\n",
       "      <th>0</th>\n",
       "      <td>8815</td>\n",
       "      <td>Illinois</td>\n",
       "      <td>Suburb</td>\n",
       "      <td>0.1</td>\n",
       "      <td>0.1</td>\n",
       "      <td>0.59</td>\n",
       "      <td>15000.0</td>\n",
       "    </tr>\n",
       "    <tr>\n",
       "      <th>2</th>\n",
       "      <td>4921</td>\n",
       "      <td>Utah</td>\n",
       "      <td>Suburb</td>\n",
       "      <td>0.1</td>\n",
       "      <td>0.3</td>\n",
       "      <td>0.59</td>\n",
       "      <td>7000.0</td>\n",
       "    </tr>\n",
       "    <tr>\n",
       "      <th>5</th>\n",
       "      <td>5987</td>\n",
       "      <td>Wisconsin</td>\n",
       "      <td>Suburb</td>\n",
       "      <td>0.1</td>\n",
       "      <td>0.1</td>\n",
       "      <td>0.59</td>\n",
       "      <td>11000.0</td>\n",
       "    </tr>\n",
       "    <tr>\n",
       "      <th>6</th>\n",
       "      <td>3710</td>\n",
       "      <td>Utah</td>\n",
       "      <td>Suburb</td>\n",
       "      <td>0.1</td>\n",
       "      <td>0.5</td>\n",
       "      <td>0.59</td>\n",
       "      <td>7000.0</td>\n",
       "    </tr>\n",
       "    <tr>\n",
       "      <th>7</th>\n",
       "      <td>7177</td>\n",
       "      <td>North Carolina</td>\n",
       "      <td>Suburb</td>\n",
       "      <td>0.3</td>\n",
       "      <td>0.3</td>\n",
       "      <td>0.59</td>\n",
       "      <td>9000.0</td>\n",
       "    </tr>\n",
       "  </tbody>\n",
       "</table>\n",
       "</div>"
      ],
      "text/plain": [
       "   district_id           state  locale  pct_black/hispanic  pct_free/reduced  \\\n",
       "0         8815        Illinois  Suburb                 0.1               0.1   \n",
       "2         4921            Utah  Suburb                 0.1               0.3   \n",
       "5         5987       Wisconsin  Suburb                 0.1               0.1   \n",
       "6         3710            Utah  Suburb                 0.1               0.5   \n",
       "7         7177  North Carolina  Suburb                 0.3               0.3   \n",
       "\n",
       "   county_connections_ratio  pp_total_raw  \n",
       "0                      0.59       15000.0  \n",
       "2                      0.59        7000.0  \n",
       "5                      0.59       11000.0  \n",
       "6                      0.59        7000.0  \n",
       "7                      0.59        9000.0  "
      ]
     },
     "execution_count": 4,
     "metadata": {},
     "output_type": "execute_result"
    }
   ],
   "source": [
    "from statistics import mean\n",
    "\n",
    "for col in ['pct_black/hispanic', 'pct_free/reduced', 'pp_total_raw', 'county_connections_ratio']:\n",
    "    districts[col] = districts[col].apply(lambda val: mean([float(x) for x in val[1:-1].split(',')]))\n",
    "\n",
    "districts.head()"
   ]
  },
  {
   "cell_type": "markdown",
   "id": "058a2bf8",
   "metadata": {
    "tags": []
   },
   "source": [
    "<div style=\"background-color: #f0f0f0; padding: 10px; border: 2px solid #4a4a4a; border-radius: 5px\">\n",
    "\n",
    "<h3 style=\"color: #3b3b3b\">🍹 Merge district and engagement data</h3>\n",
    "\n",
    "Also add a column that holds an integer representation of the date on which the engagement event was recorded.\n",
    "\n",
    "</div>"
   ]
  },
  {
   "cell_type": "code",
   "execution_count": 5,
   "id": "c001cd4b",
   "metadata": {
    "ExecuteTime": {
     "end_time": "2021-09-17T18:39:14.489111Z",
     "start_time": "2021-09-17T18:39:03.693261Z"
    },
    "tags": []
   },
   "outputs": [
    {
     "data": {
      "text/html": [
       "<div>\n",
       "<style scoped>\n",
       "    .dataframe tbody tr th:only-of-type {\n",
       "        vertical-align: middle;\n",
       "    }\n",
       "\n",
       "    .dataframe tbody tr th {\n",
       "        vertical-align: top;\n",
       "    }\n",
       "\n",
       "    .dataframe thead th {\n",
       "        text-align: right;\n",
       "    }\n",
       "</style>\n",
       "<table border=\"1\" class=\"dataframe\">\n",
       "  <thead>\n",
       "    <tr style=\"text-align: right;\">\n",
       "      <th></th>\n",
       "      <th>time</th>\n",
       "      <th>lp_id</th>\n",
       "      <th>pct_access</th>\n",
       "      <th>engagement_index</th>\n",
       "      <th>district_id</th>\n",
       "      <th>state</th>\n",
       "      <th>locale</th>\n",
       "      <th>pct_black/hispanic</th>\n",
       "      <th>pct_free/reduced</th>\n",
       "      <th>county_connections_ratio</th>\n",
       "      <th>pp_total_raw</th>\n",
       "      <th>time_as_int</th>\n",
       "    </tr>\n",
       "  </thead>\n",
       "  <tbody>\n",
       "    <tr>\n",
       "      <th>0</th>\n",
       "      <td>2020-01-01</td>\n",
       "      <td>95731.0</td>\n",
       "      <td>0.09</td>\n",
       "      <td>85.86</td>\n",
       "      <td>1204</td>\n",
       "      <td>Utah</td>\n",
       "      <td>Suburb</td>\n",
       "      <td>0.1</td>\n",
       "      <td>0.1</td>\n",
       "      <td>0.59</td>\n",
       "      <td>7000.0</td>\n",
       "      <td>20200101</td>\n",
       "    </tr>\n",
       "    <tr>\n",
       "      <th>1</th>\n",
       "      <td>2020-01-01</td>\n",
       "      <td>71805.0</td>\n",
       "      <td>0.09</td>\n",
       "      <td>3.47</td>\n",
       "      <td>1204</td>\n",
       "      <td>Utah</td>\n",
       "      <td>Suburb</td>\n",
       "      <td>0.1</td>\n",
       "      <td>0.1</td>\n",
       "      <td>0.59</td>\n",
       "      <td>7000.0</td>\n",
       "      <td>20200101</td>\n",
       "    </tr>\n",
       "    <tr>\n",
       "      <th>3</th>\n",
       "      <td>2020-01-01</td>\n",
       "      <td>57084.0</td>\n",
       "      <td>0.09</td>\n",
       "      <td>0.87</td>\n",
       "      <td>1204</td>\n",
       "      <td>Utah</td>\n",
       "      <td>Suburb</td>\n",
       "      <td>0.1</td>\n",
       "      <td>0.1</td>\n",
       "      <td>0.59</td>\n",
       "      <td>7000.0</td>\n",
       "      <td>20200101</td>\n",
       "    </tr>\n",
       "    <tr>\n",
       "      <th>6</th>\n",
       "      <td>2020-01-01</td>\n",
       "      <td>69863.0</td>\n",
       "      <td>0.09</td>\n",
       "      <td>0.87</td>\n",
       "      <td>1204</td>\n",
       "      <td>Utah</td>\n",
       "      <td>Suburb</td>\n",
       "      <td>0.1</td>\n",
       "      <td>0.1</td>\n",
       "      <td>0.59</td>\n",
       "      <td>7000.0</td>\n",
       "      <td>20200101</td>\n",
       "    </tr>\n",
       "    <tr>\n",
       "      <th>8</th>\n",
       "      <td>2020-01-01</td>\n",
       "      <td>13496.0</td>\n",
       "      <td>0.09</td>\n",
       "      <td>131.83</td>\n",
       "      <td>1204</td>\n",
       "      <td>Utah</td>\n",
       "      <td>Suburb</td>\n",
       "      <td>0.1</td>\n",
       "      <td>0.1</td>\n",
       "      <td>0.59</td>\n",
       "      <td>7000.0</td>\n",
       "      <td>20200101</td>\n",
       "    </tr>\n",
       "  </tbody>\n",
       "</table>\n",
       "</div>"
      ],
      "text/plain": [
       "         time    lp_id  pct_access  engagement_index  district_id state  \\\n",
       "0  2020-01-01  95731.0        0.09             85.86         1204  Utah   \n",
       "1  2020-01-01  71805.0        0.09              3.47         1204  Utah   \n",
       "3  2020-01-01  57084.0        0.09              0.87         1204  Utah   \n",
       "6  2020-01-01  69863.0        0.09              0.87         1204  Utah   \n",
       "8  2020-01-01  13496.0        0.09            131.83         1204  Utah   \n",
       "\n",
       "   locale  pct_black/hispanic  pct_free/reduced  county_connections_ratio  \\\n",
       "0  Suburb                 0.1               0.1                      0.59   \n",
       "1  Suburb                 0.1               0.1                      0.59   \n",
       "3  Suburb                 0.1               0.1                      0.59   \n",
       "6  Suburb                 0.1               0.1                      0.59   \n",
       "8  Suburb                 0.1               0.1                      0.59   \n",
       "\n",
       "   pp_total_raw  time_as_int  \n",
       "0        7000.0     20200101  \n",
       "1        7000.0     20200101  \n",
       "3        7000.0     20200101  \n",
       "6        7000.0     20200101  \n",
       "8        7000.0     20200101  "
      ]
     },
     "execution_count": 5,
     "metadata": {},
     "output_type": "execute_result"
    }
   ],
   "source": [
    "engagement['district_id'] = engagement['district_id'].astype('int64')\n",
    "merged_data = pd.merge(engagement, districts, on = 'district_id')\n",
    "merged_data = merged_data.dropna()\n",
    "\n",
    "# Add time as integer\n",
    "timeAsInt = [int(\"\".join(x.split(\"-\"))) for x in merged_data['time']]\n",
    "merged_data['time_as_int'] = timeAsInt\n",
    "\n",
    "merged_data.head()"
   ]
  },
  {
   "cell_type": "markdown",
   "id": "b6f9b2b5-1d83-49ff-a302-e9f27cb566eb",
   "metadata": {},
   "source": [
    "<div style=\"background-color: #f0f0f0; padding: 10px; border: 2px solid #4a4a4a; border-radius: 5px\">\n",
    "\n",
    "<h2 style=\"color: #3b3b3b\">🦠 Pre- and Post Covid19</h2>\n",
    "\n",
    "To analyze the impact of COVID-19 concerning district demographics we did the following: \n",
    "\n",
    "1. We split the data into two parts - **Before** and **after** March 11 2020\n",
    "    \n",
    "  - On **March 11 2020** the WHO declared COVID-19 a global Pandemic (as can be seen in [this timeline](https://www.ajmc.com/view/a-timeline-of-covid19-developments-in-2020))\n",
    "\n",
    "2. Grouped by district, we took computed means (of the values we're interested in, i.e. `pct_access` and `engagement_index`)\n",
    "\n",
    "<h4 style=\"color: #3b3b3b\">📆 Dates</h4>\n",
    "\n",
    "- **March 11**: WHO Declares COVID-19 a Pandemic \n",
    "- US vacation time: Between **Mai 30** and **August 20**\n",
    "\n",
    "</div>"
   ]
  },
  {
   "cell_type": "code",
   "execution_count": 6,
   "id": "fb81b7c3-35b2-42a3-aeb2-660828067188",
   "metadata": {
    "tags": []
   },
   "outputs": [],
   "source": [
    "covid_date_WHO_declares_pandemic = 20200311 # March 11 2020\n",
    "\n",
    "us_vacation_start = 20200530\n",
    "us_vacation_end = 20200820"
   ]
  },
  {
   "cell_type": "markdown",
   "id": "85912d38-8eca-48f4-9f41-71fcd2eb3d19",
   "metadata": {},
   "source": [
    "<div style=\"background-color: #f0f0f0; padding: 10px; border: 2px solid #4a4a4a; border-radius: 5px\">\n",
    "\n",
    "<h3 style=\"color: #3b3b3b\">✂︎ Differentiate between before and after Covid-19 onset</h3>\n",
    "    \n",
    "</div>"
   ]
  },
  {
   "cell_type": "code",
   "execution_count": 8,
   "id": "ca58819a-1c57-440f-b0dd-b5e699fd7c2a",
   "metadata": {
    "tags": []
   },
   "outputs": [],
   "source": [
    "# Add column to differentiate between pre covid-19 and the time since it's announced to be a pandemic\n",
    "merged_data['pre_covid'] = merged_data['time_as_int'] <= covid_date_WHO_declares_pandemic"
   ]
  },
  {
   "cell_type": "markdown",
   "id": "2af5f41e-697b-4be1-8a5e-634ba89077b2",
   "metadata": {},
   "source": [
    "<div style=\"background-color: #f0f0f0; padding: 10px; border: 2px solid #4a4a4a; border-radius: 5px\">\n",
    "\n",
    "<h3 style=\"color: #3b3b3b\">📐 Defining a metric</h3>\n",
    "    \n",
    "<h4 style=\"color: #3b3b3b\">Privileged vs. under-served districts</h4>\n",
    "\n",
    "Districts have different demographics. We used the `pct_black/hispanic` and `pct_free/reduced` data to compute a metric of underserved districts to explore whether Covid19 had a greater impact on either group.\n",
    "\n",
    "**Hypothesis**: Our assumption is that students in districts with a high percentage of black/hispanic people and a high number of free or reduced lunches on average may be disadvantaged a bit more and may have to struggle more in school.\n",
    "\n",
    "As a measure we computed the sum of `pct_black/hispanic` and `pct_free/reduced`. If this value is lower than its average over all districts, we labeled the district as *privileged*. If not, we labeled it as *under-served*.\n",
    "\n",
    "</div>"
   ]
  },
  {
   "cell_type": "code",
   "execution_count": 9,
   "id": "1358c47a-6ff3-4b2e-a9d9-69856af2d8b5",
   "metadata": {},
   "outputs": [
    {
     "data": {
      "text/html": [
       "<div>\n",
       "<style scoped>\n",
       "    .dataframe tbody tr th:only-of-type {\n",
       "        vertical-align: middle;\n",
       "    }\n",
       "\n",
       "    .dataframe tbody tr th {\n",
       "        vertical-align: top;\n",
       "    }\n",
       "\n",
       "    .dataframe thead th {\n",
       "        text-align: right;\n",
       "    }\n",
       "</style>\n",
       "<table border=\"1\" class=\"dataframe\">\n",
       "  <thead>\n",
       "    <tr style=\"text-align: right;\">\n",
       "      <th></th>\n",
       "      <th>time</th>\n",
       "      <th>lp_id</th>\n",
       "      <th>pct_access</th>\n",
       "      <th>engagement_index</th>\n",
       "      <th>district_id</th>\n",
       "      <th>state</th>\n",
       "      <th>locale</th>\n",
       "      <th>pct_black/hispanic</th>\n",
       "      <th>pct_free/reduced</th>\n",
       "      <th>county_connections_ratio</th>\n",
       "      <th>pp_total_raw</th>\n",
       "      <th>time_as_int</th>\n",
       "      <th>pre_covid</th>\n",
       "      <th>underserved</th>\n",
       "    </tr>\n",
       "  </thead>\n",
       "  <tbody>\n",
       "    <tr>\n",
       "      <th>0</th>\n",
       "      <td>2020-01-01</td>\n",
       "      <td>95731.0</td>\n",
       "      <td>0.09</td>\n",
       "      <td>85.86</td>\n",
       "      <td>1204</td>\n",
       "      <td>Utah</td>\n",
       "      <td>Suburb</td>\n",
       "      <td>0.1</td>\n",
       "      <td>0.1</td>\n",
       "      <td>0.59</td>\n",
       "      <td>7000.0</td>\n",
       "      <td>20200101</td>\n",
       "      <td>True</td>\n",
       "      <td>False</td>\n",
       "    </tr>\n",
       "    <tr>\n",
       "      <th>1</th>\n",
       "      <td>2020-01-01</td>\n",
       "      <td>71805.0</td>\n",
       "      <td>0.09</td>\n",
       "      <td>3.47</td>\n",
       "      <td>1204</td>\n",
       "      <td>Utah</td>\n",
       "      <td>Suburb</td>\n",
       "      <td>0.1</td>\n",
       "      <td>0.1</td>\n",
       "      <td>0.59</td>\n",
       "      <td>7000.0</td>\n",
       "      <td>20200101</td>\n",
       "      <td>True</td>\n",
       "      <td>False</td>\n",
       "    </tr>\n",
       "    <tr>\n",
       "      <th>3</th>\n",
       "      <td>2020-01-01</td>\n",
       "      <td>57084.0</td>\n",
       "      <td>0.09</td>\n",
       "      <td>0.87</td>\n",
       "      <td>1204</td>\n",
       "      <td>Utah</td>\n",
       "      <td>Suburb</td>\n",
       "      <td>0.1</td>\n",
       "      <td>0.1</td>\n",
       "      <td>0.59</td>\n",
       "      <td>7000.0</td>\n",
       "      <td>20200101</td>\n",
       "      <td>True</td>\n",
       "      <td>False</td>\n",
       "    </tr>\n",
       "    <tr>\n",
       "      <th>6</th>\n",
       "      <td>2020-01-01</td>\n",
       "      <td>69863.0</td>\n",
       "      <td>0.09</td>\n",
       "      <td>0.87</td>\n",
       "      <td>1204</td>\n",
       "      <td>Utah</td>\n",
       "      <td>Suburb</td>\n",
       "      <td>0.1</td>\n",
       "      <td>0.1</td>\n",
       "      <td>0.59</td>\n",
       "      <td>7000.0</td>\n",
       "      <td>20200101</td>\n",
       "      <td>True</td>\n",
       "      <td>False</td>\n",
       "    </tr>\n",
       "    <tr>\n",
       "      <th>8</th>\n",
       "      <td>2020-01-01</td>\n",
       "      <td>13496.0</td>\n",
       "      <td>0.09</td>\n",
       "      <td>131.83</td>\n",
       "      <td>1204</td>\n",
       "      <td>Utah</td>\n",
       "      <td>Suburb</td>\n",
       "      <td>0.1</td>\n",
       "      <td>0.1</td>\n",
       "      <td>0.59</td>\n",
       "      <td>7000.0</td>\n",
       "      <td>20200101</td>\n",
       "      <td>True</td>\n",
       "      <td>False</td>\n",
       "    </tr>\n",
       "  </tbody>\n",
       "</table>\n",
       "</div>"
      ],
      "text/plain": [
       "         time    lp_id  pct_access  engagement_index  district_id state  \\\n",
       "0  2020-01-01  95731.0        0.09             85.86         1204  Utah   \n",
       "1  2020-01-01  71805.0        0.09              3.47         1204  Utah   \n",
       "3  2020-01-01  57084.0        0.09              0.87         1204  Utah   \n",
       "6  2020-01-01  69863.0        0.09              0.87         1204  Utah   \n",
       "8  2020-01-01  13496.0        0.09            131.83         1204  Utah   \n",
       "\n",
       "   locale  pct_black/hispanic  pct_free/reduced  county_connections_ratio  \\\n",
       "0  Suburb                 0.1               0.1                      0.59   \n",
       "1  Suburb                 0.1               0.1                      0.59   \n",
       "3  Suburb                 0.1               0.1                      0.59   \n",
       "6  Suburb                 0.1               0.1                      0.59   \n",
       "8  Suburb                 0.1               0.1                      0.59   \n",
       "\n",
       "   pp_total_raw  time_as_int  pre_covid  underserved  \n",
       "0        7000.0     20200101       True        False  \n",
       "1        7000.0     20200101       True        False  \n",
       "3        7000.0     20200101       True        False  \n",
       "6        7000.0     20200101       True        False  \n",
       "8        7000.0     20200101       True        False  "
      ]
     },
     "execution_count": 9,
     "metadata": {},
     "output_type": "execute_result"
    }
   ],
   "source": [
    "# Add 'underserved' column\n",
    "merged_data_underserved_sum = merged_data['pct_free/reduced'] + merged_data['pct_black/hispanic']\n",
    "merged_data_underserved_sum_average = mean(merged_data_underserved_sum)\n",
    "merged_data['underserved'] = merged_data_underserved_sum > merged_data_underserved_sum_average\n",
    "\n",
    "merged_data.head()"
   ]
  },
  {
   "cell_type": "markdown",
   "id": "a7988e22-c055-4580-99e2-b9a146656195",
   "metadata": {},
   "source": [
    "<div style=\"background-color: #f0f0f0; padding: 10px; border: 2px solid #4a4a4a; border-radius: 5px\">\n",
    "\n",
    "<h3 style=\"color: #3b3b3b\">👀 Comparing engagement data</h3>\n",
    "\n",
    "- We now plot both, `pct_access` and `engagement_index` into scatter plots.\n",
    "- Combining `pct_access` and `engagement_index` gives us a good representation of total engagement.\n",
    "- We eventually want to compare engagement data of `underserved` and `priveleged` districts.\n",
    "</div>\n"
   ]
  },
  {
   "cell_type": "code",
   "execution_count": 10,
   "id": "ecd3af55-71de-42de-b93d-88e3fd99b7aa",
   "metadata": {},
   "outputs": [
    {
     "data": {
      "text/plain": [
       "<seaborn.axisgrid.FacetGrid at 0x1376b2be0>"
      ]
     },
     "execution_count": 10,
     "metadata": {},
     "output_type": "execute_result"
    },
    {
     "data": {
      "image/png": "[encoded data removed]",
      "text/plain": [
       "<Figure size 583.5x216 with 2 Axes>"
      ]
     },
     "metadata": {
      "needs_background": "light"
     },
     "output_type": "display_data"
    }
   ],
   "source": [
    "# Engagement\n",
    "g = sns.FacetGrid(merged_data, col=\"underserved\", hue=\"pre_covid\")\n",
    "g.map(sns.scatterplot, \"engagement_index\", \"pct_access\").set(xlabel=\"Engagement per 1000 students\", ylabel=\"% of min. 1 page load\")\n",
    "g.add_legend(title=\"Data recorded pre Covid-19?\")"
   ]
  },
  {
   "cell_type": "markdown",
   "id": "4c1c1fd3-bd97-4184-bc1e-593592ce169f",
   "metadata": {},
   "source": [
    "<div style=\"background-color: #f0f0f0; padding: 10px; border: 2px solid #4a4a4a; border-radius: 5px\">\n",
    "\n",
    "\n",
    "<h4 style=\"color: #3b3b3b\">👀 Analyzing the plots</h4>\n",
    "\n",
    "<h5 style=\"color: #3b3b3b\">Privileged vs. underserved districts</h5>\n",
    "\n",
    "- There are much less underserved districts than privileged districts and thus less data points (see piecharts below)\n",
    "- The delta between pre- and post Covid-19 seems to be larger in underserved districts.\n",
    "- Whether there is a significant difference is hard to inspect from the plots alone.\n",
    "    \n",
    "Let us now split the data by state:\n",
    "\n",
    "</div>"
   ]
  },
  {
   "cell_type": "code",
   "execution_count": 11,
   "id": "33c31671-d860-4bf1-b2bd-c0a1c720e807",
   "metadata": {},
   "outputs": [
    {
     "data": {
      "image/png": "[encoded data removed]",
      "text/plain": [
       "<Figure size 864x432 with 2 Axes>"
      ]
     },
     "metadata": {},
     "output_type": "display_data"
    },
    {
     "name": "stdout",
     "output_type": "stream",
     "text": [
      "# of page views (pre Covid-19):            403262 / 6406915\n",
      "# of page views (since Covid-19 outbreak): 1435208 / 6406915\n"
     ]
    }
   ],
   "source": [
    "# Compute counts\n",
    "pre_mean_underserved_count = sum(merged_data[merged_data['pre_covid'] == True]['underserved'])\n",
    "post_mean_underserved_count = sum(merged_data[merged_data['pre_covid'] == False]['underserved'])\n",
    "\n",
    "# Pie plots to show \n",
    "colors = sns.color_palette('pastel')[2:4]\n",
    "plt.figure(figsize=(12,6))\n",
    "plt.suptitle(\"Distribution of page views\", fontsize=22, fontweight=\"bold\")\n",
    "plt.subplot(1,2,1)\n",
    "plt.title('Pre Covid-19')\n",
    "plt.pie([pre_mean_underserved_count, len(merged_data) - pre_mean_underserved_count], labels=['underserved', 'privileged'], colors = colors, autopct='%.0f%%')\n",
    "plt.subplot(1,2,2)\n",
    "plt.title('Since start of Covid-19')\n",
    "plt.pie([post_mean_underserved_count, len(merged_data) - post_mean_underserved_count], labels=['underserved', 'privileged'], colors = colors, autopct='%.0f%%')\n",
    "plt.show()\n",
    "\n",
    "# Ratio of page views underserved vs. privileged districts\n",
    "print(\"# of page views (pre Covid-19):           \", pre_mean_underserved_count, \"/\", len(merged_data))\n",
    "print(\"# of page views (since Covid-19 outbreak):\", post_mean_underserved_count, \"/\", len(merged_data))"
   ]
  },
  {
   "cell_type": "markdown",
   "id": "cc683e0a-1e53-42d6-ab59-b1bdc54b8baf",
   "metadata": {},
   "source": [
    "<div style=\"background-color: #f0f0f0; padding: 10px; border: 2px solid #4a4a4a; border-radius: 5px\">\n",
    "\n",
    "<h3 style=\"color: #3b3b3b\">⚡️ Comparing means</h3>\n",
    "\n",
    "We analyze whether differences/similarities between privileged and underserved districts remain intact pre Covid-19 and after Covid-19 hit the US.\n",
    "\n",
    "To this end we first take a look at the means:\n",
    "\n",
    "</div>"
   ]
  },
  {
   "cell_type": "code",
   "execution_count": 33,
   "id": "f174a190-81ea-4cac-b83f-e034bdda29b8",
   "metadata": {
    "tags": []
   },
   "outputs": [
    {
     "data": {
      "image/png": "[encoded data removed]",
      "text/plain": [
       "<Figure size 432x288 with 1 Axes>"
      ]
     },
     "metadata": {
      "needs_background": "light"
     },
     "output_type": "display_data"
    }
   ],
   "source": [
    "# Comparing means\n",
    "engagement_data_means = merged_data.groupby(['pre_covid', 'underserved']).agg({'engagement_index': 'mean', 'pct_access': 'mean' }).reset_index()\n",
    "\n",
    "ax = sns.barplot(x=\"underserved\", y=\"engagement_index\", hue=\"pre_covid\", hue_order=[True, False], data=engagement_data_means)"
   ]
  },
  {
   "cell_type": "code",
   "execution_count": 34,
   "id": "61291b4f-047f-4371-8e8d-9abe7a551e97",
   "metadata": {
    "tags": []
   },
   "outputs": [
    {
     "data": {
      "text/plain": [
       "<AxesSubplot:xlabel='underserved', ylabel='pct_access'>"
      ]
     },
     "execution_count": 34,
     "metadata": {},
     "output_type": "execute_result"
    },
    {
     "data": {
      "image/png": "[encoded data removed]",
      "text/plain": [
       "<Figure size 432x288 with 1 Axes>"
      ]
     },
     "metadata": {
      "needs_background": "light"
     },
     "output_type": "display_data"
    }
   ],
   "source": [
    "sns.barplot(x=\"underserved\", y=\"pct_access\", hue=\"pre_covid\", hue_order=[True, False], data=engagement_data_means)"
   ]
  },
  {
   "cell_type": "markdown",
   "id": "41d70205-6e8b-45b2-9d98-60f80403864d",
   "metadata": {},
   "source": [
    "<div style=\"background-color: #f0f0f0; padding: 10px; border: 2px solid #4a4a4a; border-radius: 5px\">\n",
    "\n",
    "<h4 style=\"color: #3b3b3b\">No huge differences</h4>\n",
    "    \n",
    "First comparison of means shows that differences between pre-covid and post-covid - but besides total engagement being lower in underserved communities, the relative difference seems comparable.\n",
    "\n",
    "</div>"
   ]
  },
  {
   "cell_type": "code",
   "execution_count": 7,
   "id": "0a36b561-e56a-4c32-a390-3d6af4eb1668",
   "metadata": {
    "tags": []
   },
   "outputs": [],
   "source": [
    "# Remove vacation time\n",
    "before_vacation = merged_data[merged_data['time_as_int'] < us_vacation_start]\n",
    "after_vacation = merged_data[merged_data['time_as_int'] > us_vacation_end]\n",
    "\n",
    "merged_data_without_vacation = pd.concat([before_vacation, after_vacation])"
   ]
  },
  {
   "cell_type": "markdown",
   "id": "e4ff3c97-6ed6-4d05-bd5c-e3d999a6bd7b",
   "metadata": {},
   "source": [
    "<div style=\"background-color: #f0f0f0; padding: 10px; border: 2px solid #4a4a4a; border-radius: 5px\">\n",
    "\n",
    "Vacation time is different than Online education software access mostly stops entirely or behaves unpredictable during vacation time.\n",
    "\n",
    "If we remove vacation data from the analysis we observe something interesting:\n",
    "    \n",
    "<h5 style=\"color: #3b3b3b\">Opposite trend observed with vacation time included</h5>\n",
    "\n",
    "We see that there is an opposite trend.\n",
    "    \n",
    "- In **underserved** districts \n",
    "- In **privileged** districts engagement \n",
    "\n",
    "</div>"
   ]
  },
  {
   "cell_type": "code",
   "execution_count": null,
   "id": "5de471dd-73d9-4090-a1af-8f1b1201916b",
   "metadata": {},
   "outputs": [],
   "source": [
    "# Comparing means\n",
    "engagement_data_means_without_vacation = merged_data_without_vacation.groupby(['pre_covid', 'underserved']).agg({'engagement_index': 'mean', 'pct_access': 'mean' }).reset_index()\n",
    "\n",
    "sns.barplot(x=\"underserved\", y=\"engagement_index\", hue=\"pre_covid\", hue_order=[True, False], data=engagement_data_means_without_vacation)"
   ]
  },
  {
   "cell_type": "markdown",
   "id": "75efbb4e-aa1d-4d5f-b8ea-c7f48eec2670",
   "metadata": {},
   "source": [
    "#### 🤨 PCT Access remains odd\n",
    "\n",
    "Even with vacation time removed, the `pct_access` value is higher before Covid-19 than during the pandemic."
   ]
  },
  {
   "cell_type": "code",
   "execution_count": null,
   "id": "6cf84faf-2c5c-4f8e-bd21-2edf1551a014",
   "metadata": {},
   "outputs": [],
   "source": [
    "sns.barplot(x=\"underserved\", y=\"pct_access\", hue=\"pre_covid\", hue_order=[True, False], data=engagement_data_means_without_vacation)"
   ]
  },
  {
   "cell_type": "markdown",
   "id": "bdb88b77-3bdf-4243-9f46-ea3e46325bf9",
   "metadata": {},
   "source": [
    "#### 🧪 Hypothesis test\n",
    "\n",
    "- Let us see whether there really is a significant difference between the groups.\n",
    "- Since data is anonymized we cannot compare a student's engagement before and after the onset of Covid-19. Hence, we can treat all groups as being independent."
   ]
  },
  {
   "cell_type": "code",
   "execution_count": 25,
   "id": "ad4874ef-0386-4a38-bf91-429b34186d1d",
   "metadata": {},
   "outputs": [
    {
     "data": {
      "text/plain": [
       "Ttest_indResult(statistic=-20.278115740622095, pvalue=2.070753737815736e-91)"
      ]
     },
     "execution_count": 25,
     "metadata": {},
     "output_type": "execute_result"
    }
   ],
   "source": [
    "from scipy import stats\n",
    "\n",
    "underserved = merged_data[merged_data['underserved'] == True]\n",
    "pre_covid = merged_data[merged_data['pre_covid'] == True]\n",
    "post_covid = merged_data[merged_data['pre_covid'] == False]\n",
    "\n",
    "# T-test (pre Covid-19 vs. after onset of Covid-10 pandemic)\n",
    "stats.ttest_ind(underserved[underserved['pre_covid'] == True]['engagement_index'], underserved[underserved['pre_covid'] == False]['engagement_index'])\n",
    "\n",
    "# stats.ttest_ind(pre_covid[pre_covid['underserved'] == True]['engagement_index'], pre_covid[pre_covid['underserved'] == False]['engagement_index'])\n",
    "\n",
    "# stats.ttest_ind(post_covid[post_covid['underserved'] == True]['engagement_index'], post_covid[post_covid['underserved'] == False]['engagement_index'])"
   ]
  },
  {
   "cell_type": "code",
   "execution_count": 28,
   "id": "b0def76c-942e-499e-addb-ae7841cc6601",
   "metadata": {},
   "outputs": [
    {
     "data": {
      "text/plain": [
       "Ttest_indResult(statistic=-20.278115740622095, pvalue=2.070753737815736e-91)"
      ]
     },
     "execution_count": 28,
     "metadata": {},
     "output_type": "execute_result"
    }
   ],
   "source": [
    "stats.ttest_ind(pre_covid[pre_covid['underserved'] == True]['engagement_index'], pre_covid[pre_covid['underserved'] == False]['engagement_index'])"
   ]
  },
  {
   "cell_type": "code",
   "execution_count": 29,
   "id": "eea01f96-fa39-4716-b33e-f326de6e38c9",
   "metadata": {},
   "outputs": [
    {
     "data": {
      "text/plain": [
       "Ttest_indResult(statistic=-35.92129600988, pvalue=1.5431215610730293e-282)"
      ]
     },
     "execution_count": 29,
     "metadata": {},
     "output_type": "execute_result"
    }
   ],
   "source": [
    "# T-test (underserved vs. privileged)\n",
    "stats.ttest_ind(post_covid[post_covid['underserved'] == True]['engagement_index'], post_covid[post_covid['underserved'] == False]['engagement_index'])\n"
   ]
  },
  {
   "cell_type": "markdown",
   "id": "08a7ec48-72a2-49ec-898f-0b85fad6148e",
   "metadata": {},
   "source": [
    "##### 🧪 Test result\n",
    "\n",
    "- All tests demonstrate a highly significant difference of means.\n",
    "- Hence, the differences observed in the bar charts above are indeed significant and not solely random effects."
   ]
  },
  {
   "cell_type": "code",
   "execution_count": null,
   "id": "d42912c1-6338-4d34-89ad-b38e6036b724",
   "metadata": {},
   "outputs": [],
   "source": []
  }
 ],
 "metadata": {
  "interpreter": {
   "hash": "0f578a5a9c4422eaef33558e913f029167000a97fc7244e67f432e0784b40cb6"
  },
  "kernelspec": {
   "display_name": "Python 3 (ipykernel)",
   "language": "python",
   "name": "python3"
  },
  "language_info": {
   "codemirror_mode": {
    "name": "ipython",
    "version": 3
   },
   "file_extension": ".py",
   "mimetype": "text/x-python",
   "name": "python",
   "nbconvert_exporter": "python",
   "pygments_lexer": "ipython3",
   "version": "3.9.7"
  },
  "toc": {
   "base_numbering": 1,
   "nav_menu": {},
   "number_sections": true,
   "sideBar": true,
   "skip_h1_title": false,
   "title_cell": "Table of Contents",
   "title_sidebar": "Contents",
   "toc_cell": false,
   "toc_position": {},
   "toc_section_display": true,
   "toc_window_display": false
  }
 },
 "nbformat": 4,
 "nbformat_minor": 5
}
