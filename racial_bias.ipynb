{
 "cells": [
  {
   "cell_type": "code",
   "execution_count": 4,
   "id": "f68ff5a6",
   "metadata": {
    "ExecuteTime": {
     "start_time": "2021-09-17T18:41:08.980Z"
    }
   },
   "outputs": [
    {
     "name": "stdout",
     "output_type": "stream",
     "text": [
      "\u001b[33mDEPRECATION: Configuring installation scheme with distutils config files is deprecated and will no longer work in the near future. If you are using a Homebrew or Linuxbrew Python, please see discussion at https://github.com/Homebrew/homebrew-core/issues/76621\u001b[0m\n",
      "Requirement already satisfied: mitoinstaller in /usr/local/lib/python3.9/site-packages (0.0.74)\n",
      "Requirement already satisfied: colorama in /usr/local/lib/python3.9/site-packages (from mitoinstaller) (0.4.4)\n",
      "Requirement already satisfied: analytics-python in /usr/local/lib/python3.9/site-packages (from mitoinstaller) (1.4.0)\n",
      "Requirement already satisfied: termcolor in /usr/local/lib/python3.9/site-packages (from mitoinstaller) (1.1.0)\n",
      "Requirement already satisfied: requests<3.0,>=2.7 in /usr/local/lib/python3.9/site-packages (from analytics-python->mitoinstaller) (2.25.0)\n",
      "Requirement already satisfied: python-dateutil>2.1 in /usr/local/lib/python3.9/site-packages (from analytics-python->mitoinstaller) (2.8.1)\n",
      "Requirement already satisfied: backoff==1.10.0 in /usr/local/lib/python3.9/site-packages (from analytics-python->mitoinstaller) (1.10.0)\n",
      "Requirement already satisfied: six>=1.5 in /usr/local/lib/python3.9/site-packages (from analytics-python->mitoinstaller) (1.16.0)\n",
      "Requirement already satisfied: monotonic>=1.5 in /usr/local/lib/python3.9/site-packages (from analytics-python->mitoinstaller) (1.6)\n",
      "Requirement already satisfied: urllib3<1.27,>=1.21.1 in /usr/local/lib/python3.9/site-packages (from requests<3.0,>=2.7->analytics-python->mitoinstaller) (1.26.2)\n",
      "Requirement already satisfied: certifi>=2017.4.17 in /usr/local/lib/python3.9/site-packages (from requests<3.0,>=2.7->analytics-python->mitoinstaller) (2020.11.8)\n",
      "Requirement already satisfied: idna<3,>=2.5 in /usr/local/lib/python3.9/site-packages (from requests<3.0,>=2.7->analytics-python->mitoinstaller) (2.10)\n",
      "Requirement already satisfied: chardet<4,>=3.0.2 in /usr/local/lib/python3.9/site-packages (from requests<3.0,>=2.7->analytics-python->mitoinstaller) (3.0.4)\n",
      "\u001b[33mDEPRECATION: Configuring installation scheme with distutils config files is deprecated and will no longer work in the near future. If you are using a Homebrew or Linuxbrew Python, please see discussion at https://github.com/Homebrew/homebrew-core/issues/76621\u001b[0m\n",
      "Starting install...\n",
      "Create mito user\n",
      "Upgrading mitoinstaller\n",
      "Checking dependencies\n",
      "Installing mitosheet3\n",
      "Creating a Mitosheet starter notebook\n",
      "Start JupyterLab\n",
      "Finish Installation\n",
      "\n",
      "----------------------------------------------------------------------------\n",
      "Mito has finished installing\n",
      "\n",
      "\u001b[32mPlease shut down the currently running JupyterLab and relaunch it to enable Mito\u001b[0m\n",
      "\n",
      "\u001b[32mThen render a mitosheet following the instructions here: https://docs.trymito.io/how-to/creating-a-mitosheet\u001b[0m\n",
      "----------------------------------------------------------------------------\n",
      "\u001b[0m"
     ]
    }
   ],
   "source": [
    "!python -m pip install mitoinstaller\n",
    "!python -m mitoinstaller install"
   ]
  },
  {
   "cell_type": "code",
   "execution_count": 1,
   "id": "7f7046e8",
   "metadata": {
    "ExecuteTime": {
     "end_time": "2021-09-17T18:35:49.030452Z",
     "start_time": "2021-09-17T18:35:48.511969Z"
    }
   },
   "outputs": [],
   "source": [
    "# This Python 3 environment comes with many helpful analytics libraries installed\n",
    "# It is defined by the kaggle/python Docker image: https://github.com/kaggle/docker-python\n",
    "# For example, here's several helpful packages to load\n",
    "\n",
    "import numpy as np\n",
    "import pandas as pd\n",
    "import seaborn as sns\n",
    "import matplotlib.pyplot as plt\n",
    "\n",
    "from pathlib import Path\n",
    "# from pandas_profiling import ProfileReport\n",
    "data_dir = Path(\"./data\")"
   ]
  },
  {
   "cell_type": "markdown",
   "id": "cf5c95d0",
   "metadata": {},
   "source": [
    "<div style=\"background-color: #f0f0f0; padding: 10px; border: 2px solid #4a4a4a; border-radius: 5px\">\n",
    "<h2 style=\"color: #3b3b3b\">Available data 🗓📌</h2>\n",
    "\n",
    "<h3 style=\"color: #3b3b3b\">What does the data include?</h3>\n",
    "\n",
    "- Two measures of learning engagement  (`pct_access` and `engagement_index`) aggregated over **234** US school districts.\n",
    "- The top **372** ed-tech products (out of **10000**) identified by the Chrome browser extension [learnplatform](https://learnplatform.com/).\n",
    "- Information about the **234** school districts - heavily anonymized with sideeffects of introduced ranges (instead of actual values) and a lot of missing values.\n",
    "\n",
    "<h2 style=\"color: #3b3b3b\">Understanding the engagement data 🤓📚</h2>\n",
    "\n",
    "<h3 style=\"color: #3b3b3b\">Given definitions</h3> \n",
    "\n",
    "- `pct_access`: Percentage of students in the district have at least one page-load event of a given product and on a given day\n",
    "\n",
    "    - **Example**: 15% of students in a district in Utah engaged at least once with  on Monday April 14.\n",
    "    - **Question**: Some numbers are > 1. What should that mean?\n",
    "\n",
    "- `engagement_index`: Total page-load events per one thousand students of a given product and on a given day\n",
    "\n",
    "    - **In simple terms**: Shows how active the students are in the district.\n",
    "    - **Example**: 341 engagement events per 1000 students were recorded in Chicago on Monday April 14.\n",
    "\n",
    "<h2 style=\"color: #3b3b3b\">Understanding the product data 🤓📚</h2>\n",
    "\n",
    "<h3 style=\"color: #3b3b3b\">Sector(s)</h3>\n",
    "\n",
    "- **Issues**: \n",
    "    - What does the sector `PreK-12; Higher Ed; Corporate` exactly cover?\n",
    "    - `LC - Study Tools` contains Grammarly, `Other` contains `Facebook` -- check relevance for each hypothesis!\n",
    "</div>"
   ]
  },
  {
   "cell_type": "markdown",
   "id": "ae089d13",
   "metadata": {},
   "source": [
    "<div style=\"background-color: #f0f0f0; padding: 10px; border: 2px solid #4a4a4a; border-radius: 5px\">\n",
    "<h2 style=\"color: #3b3b3b\">Exploration Ideas 💡</h2>\n",
    "\n",
    "1. Did school topics change pre/post Covid? \n",
    "    - **Hypothesis**: Pre-covid most online education was math/science. Post-covid other areas got significantly more traction.\n",
    "2. Does race or economical background of a district play a role in online learning adoption? **(André)**\n",
    "3. Analysing the primary essential functions of learning products:\n",
    "    - Are there significant differences in engagement when comparing the categories `Learning & Curriculum (LC)`, `CM = Classroom Management` and `SDO = School & District Operations`?\n",
    "4. Do `pptotalraw` of a district and online education engagement correlate?\n",
    "5. Did \"real\" online learning increase or just usage of \"other\" tools like e.g. Google Docs / Facebook etc.? **(Robin)**\n",
    "6. Do increased online engagement rates of online learning platforms correlate with e.g. increase in social media usage?\n",
    "    - What is the ratio between distractive vs. actual educational tools?\n",
    "    - More general question: Which role do tools which are commonly known for being distracting (e.g. Facebook) play in online education?\n",
    "    - **TODO**: Compare page loads of e.g. `Google Docs` and learning platforms.\n",
    "\n",
    "</div>"
   ]
  },
  {
   "cell_type": "markdown",
   "id": "faf85341",
   "metadata": {
    "tags": []
   },
   "source": [
    "## Load Data"
   ]
  },
  {
   "cell_type": "markdown",
   "id": "7d44a99f",
   "metadata": {},
   "source": [
    "### Engagement data for all districts: Load and concatenate"
   ]
  },
  {
   "cell_type": "code",
   "execution_count": 2,
   "id": "4ad83a46",
   "metadata": {
    "ExecuteTime": {
     "end_time": "2021-09-17T18:36:02.578674Z",
     "start_time": "2021-09-17T18:35:52.208367Z"
    }
   },
   "outputs": [
    {
     "data": {
      "text/html": [
       "<div>\n",
       "<style scoped>\n",
       "    .dataframe tbody tr th:only-of-type {\n",
       "        vertical-align: middle;\n",
       "    }\n",
       "\n",
       "    .dataframe tbody tr th {\n",
       "        vertical-align: top;\n",
       "    }\n",
       "\n",
       "    .dataframe thead th {\n",
       "        text-align: right;\n",
       "    }\n",
       "</style>\n",
       "<table border=\"1\" class=\"dataframe\">\n",
       "  <thead>\n",
       "    <tr style=\"text-align: right;\">\n",
       "      <th></th>\n",
       "      <th>time</th>\n",
       "      <th>lp_id</th>\n",
       "      <th>pct_access</th>\n",
       "      <th>engagement_index</th>\n",
       "      <th>district_id</th>\n",
       "    </tr>\n",
       "  </thead>\n",
       "  <tbody>\n",
       "    <tr>\n",
       "      <th>0</th>\n",
       "      <td>2020-01-01</td>\n",
       "      <td>29322.0</td>\n",
       "      <td>0.04</td>\n",
       "      <td>1.30</td>\n",
       "      <td>3188</td>\n",
       "    </tr>\n",
       "    <tr>\n",
       "      <th>1</th>\n",
       "      <td>2020-01-01</td>\n",
       "      <td>57084.0</td>\n",
       "      <td>0.04</td>\n",
       "      <td>0.43</td>\n",
       "      <td>3188</td>\n",
       "    </tr>\n",
       "    <tr>\n",
       "      <th>2</th>\n",
       "      <td>2020-01-01</td>\n",
       "      <td>99916.0</td>\n",
       "      <td>0.09</td>\n",
       "      <td>5.20</td>\n",
       "      <td>3188</td>\n",
       "    </tr>\n",
       "    <tr>\n",
       "      <th>3</th>\n",
       "      <td>2020-01-01</td>\n",
       "      <td>58235.0</td>\n",
       "      <td>0.00</td>\n",
       "      <td>NaN</td>\n",
       "      <td>3188</td>\n",
       "    </tr>\n",
       "    <tr>\n",
       "      <th>4</th>\n",
       "      <td>2020-01-01</td>\n",
       "      <td>11585.0</td>\n",
       "      <td>0.04</td>\n",
       "      <td>1.30</td>\n",
       "      <td>3188</td>\n",
       "    </tr>\n",
       "  </tbody>\n",
       "</table>\n",
       "</div>"
      ],
      "text/plain": [
       "         time    lp_id  pct_access  engagement_index district_id\n",
       "0  2020-01-01  29322.0        0.04              1.30        3188\n",
       "1  2020-01-01  57084.0        0.04              0.43        3188\n",
       "2  2020-01-01  99916.0        0.09              5.20        3188\n",
       "3  2020-01-01  58235.0        0.00               NaN        3188\n",
       "4  2020-01-01  11585.0        0.04              1.30        3188"
      ]
     },
     "execution_count": 2,
     "metadata": {},
     "output_type": "execute_result"
    }
   ],
   "source": [
    "import glob\n",
    "import pandas as pd \n",
    "\n",
    "all_file_names = list(data_dir.glob(\"engagement_data/*.csv\"))\n",
    "data_of_district = []\n",
    "\n",
    "for filename in all_file_names:\n",
    "    df = pd.read_csv(filename, index_col=None, header=0)\n",
    "    district_id = filename.stem\n",
    "    df[\"district_id\"] = district_id\n",
    "    data_of_district.append(df)\n",
    "\n",
    "engagement = pd.concat(data_of_district)\n",
    "engagement = engagement.reset_index(drop=True)\n",
    "engagement.head()"
   ]
  },
  {
   "cell_type": "markdown",
   "id": "5226008e",
   "metadata": {},
   "source": [
    "### Products data: Load + extract 'basic category'"
   ]
  },
  {
   "cell_type": "code",
   "execution_count": 3,
   "id": "93c6bb8a",
   "metadata": {
    "ExecuteTime": {
     "end_time": "2021-09-17T18:36:02.695434Z",
     "start_time": "2021-09-17T18:36:02.581014Z"
    }
   },
   "outputs": [
    {
     "data": {
      "text/html": [
       "<div>\n",
       "<style scoped>\n",
       "    .dataframe tbody tr th:only-of-type {\n",
       "        vertical-align: middle;\n",
       "    }\n",
       "\n",
       "    .dataframe tbody tr th {\n",
       "        vertical-align: top;\n",
       "    }\n",
       "\n",
       "    .dataframe thead th {\n",
       "        text-align: right;\n",
       "    }\n",
       "</style>\n",
       "<table border=\"1\" class=\"dataframe\">\n",
       "  <thead>\n",
       "    <tr style=\"text-align: right;\">\n",
       "      <th></th>\n",
       "      <th>LP ID</th>\n",
       "      <th>URL</th>\n",
       "      <th>Product Name</th>\n",
       "      <th>Provider/Company Name</th>\n",
       "      <th>Sector(s)</th>\n",
       "      <th>Primary Essential Function</th>\n",
       "      <th>Basic_category</th>\n",
       "    </tr>\n",
       "  </thead>\n",
       "  <tbody>\n",
       "    <tr>\n",
       "      <th>0</th>\n",
       "      <td>13117</td>\n",
       "      <td>https://www.splashmath.com</td>\n",
       "      <td>SplashLearn</td>\n",
       "      <td>StudyPad Inc.</td>\n",
       "      <td>PreK-12</td>\n",
       "      <td>LC - Digital Learning Platforms</td>\n",
       "      <td>LC</td>\n",
       "    </tr>\n",
       "    <tr>\n",
       "      <th>1</th>\n",
       "      <td>66933</td>\n",
       "      <td>https://abcmouse.com</td>\n",
       "      <td>ABCmouse.com</td>\n",
       "      <td>Age of Learning, Inc</td>\n",
       "      <td>PreK-12</td>\n",
       "      <td>LC - Digital Learning Platforms</td>\n",
       "      <td>LC</td>\n",
       "    </tr>\n",
       "    <tr>\n",
       "      <th>2</th>\n",
       "      <td>50479</td>\n",
       "      <td>https://www.abcya.com</td>\n",
       "      <td>ABCya!</td>\n",
       "      <td>ABCya.com, LLC</td>\n",
       "      <td>PreK-12</td>\n",
       "      <td>LC - Sites, Resources &amp; Reference - Games &amp; Si...</td>\n",
       "      <td>LC</td>\n",
       "    </tr>\n",
       "    <tr>\n",
       "      <th>3</th>\n",
       "      <td>92993</td>\n",
       "      <td>http://www.aleks.com/</td>\n",
       "      <td>ALEKS</td>\n",
       "      <td>McGraw-Hill PreK-12</td>\n",
       "      <td>PreK-12; Higher Ed</td>\n",
       "      <td>LC - Digital Learning Platforms</td>\n",
       "      <td>LC</td>\n",
       "    </tr>\n",
       "    <tr>\n",
       "      <th>4</th>\n",
       "      <td>73104</td>\n",
       "      <td>https://www.achieve3000.com/</td>\n",
       "      <td>Achieve3000</td>\n",
       "      <td>Achieve3000</td>\n",
       "      <td>PreK-12</td>\n",
       "      <td>LC - Digital Learning Platforms</td>\n",
       "      <td>LC</td>\n",
       "    </tr>\n",
       "  </tbody>\n",
       "</table>\n",
       "</div>"
      ],
      "text/plain": [
       "   LP ID                           URL  Product Name  Provider/Company Name  \\\n",
       "0  13117    https://www.splashmath.com   SplashLearn          StudyPad Inc.   \n",
       "1  66933          https://abcmouse.com  ABCmouse.com  Age of Learning, Inc    \n",
       "2  50479         https://www.abcya.com        ABCya!         ABCya.com, LLC   \n",
       "3  92993         http://www.aleks.com/         ALEKS    McGraw-Hill PreK-12   \n",
       "4  73104  https://www.achieve3000.com/   Achieve3000            Achieve3000   \n",
       "\n",
       "            Sector(s)                         Primary Essential Function  \\\n",
       "0             PreK-12                    LC - Digital Learning Platforms   \n",
       "1             PreK-12                    LC - Digital Learning Platforms   \n",
       "2             PreK-12  LC - Sites, Resources & Reference - Games & Si...   \n",
       "3  PreK-12; Higher Ed                    LC - Digital Learning Platforms   \n",
       "4             PreK-12                    LC - Digital Learning Platforms   \n",
       "\n",
       "  Basic_category  \n",
       "0             LC  \n",
       "1             LC  \n",
       "2             LC  \n",
       "3             LC  \n",
       "4             LC  "
      ]
     },
     "execution_count": 3,
     "metadata": {},
     "output_type": "execute_result"
    }
   ],
   "source": [
    "products = pd.read_csv(data_dir / \"products_info.csv\")\n",
    "\n",
    "products['Basic_category'] = 'x'\n",
    "for i in range(len(products)):\n",
    "    if pd.isna(products.loc[i, 'Primary Essential Function']) == False:\n",
    "        products.loc[i, 'Basic_category'] = products.loc[i, 'Primary Essential Function'].split('-')[0][:-1]\n",
    "\n",
    "products.head()"
   ]
  },
  {
   "cell_type": "markdown",
   "id": "8cc2a0bc",
   "metadata": {},
   "source": [
    "### Districts data Load + drop missing data"
   ]
  },
  {
   "cell_type": "code",
   "execution_count": 5,
   "id": "3124846e",
   "metadata": {
    "ExecuteTime": {
     "end_time": "2021-09-17T18:36:02.715223Z",
     "start_time": "2021-09-17T18:36:02.696773Z"
    }
   },
   "outputs": [
    {
     "data": {
      "text/html": [
       "<div>\n",
       "<style scoped>\n",
       "    .dataframe tbody tr th:only-of-type {\n",
       "        vertical-align: middle;\n",
       "    }\n",
       "\n",
       "    .dataframe tbody tr th {\n",
       "        vertical-align: top;\n",
       "    }\n",
       "\n",
       "    .dataframe thead th {\n",
       "        text-align: right;\n",
       "    }\n",
       "</style>\n",
       "<table border=\"1\" class=\"dataframe\">\n",
       "  <thead>\n",
       "    <tr style=\"text-align: right;\">\n",
       "      <th></th>\n",
       "      <th>district_id</th>\n",
       "      <th>state</th>\n",
       "      <th>locale</th>\n",
       "      <th>pct_black/hispanic</th>\n",
       "      <th>pct_free/reduced</th>\n",
       "      <th>county_connections_ratio</th>\n",
       "      <th>pp_total_raw</th>\n",
       "    </tr>\n",
       "  </thead>\n",
       "  <tbody>\n",
       "    <tr>\n",
       "      <th>0</th>\n",
       "      <td>8815</td>\n",
       "      <td>Illinois</td>\n",
       "      <td>Suburb</td>\n",
       "      <td>[0, 0.2[</td>\n",
       "      <td>[0, 0.2[</td>\n",
       "      <td>[0.18, 1[</td>\n",
       "      <td>[14000, 16000[</td>\n",
       "    </tr>\n",
       "    <tr>\n",
       "      <th>2</th>\n",
       "      <td>4921</td>\n",
       "      <td>Utah</td>\n",
       "      <td>Suburb</td>\n",
       "      <td>[0, 0.2[</td>\n",
       "      <td>[0.2, 0.4[</td>\n",
       "      <td>[0.18, 1[</td>\n",
       "      <td>[6000, 8000[</td>\n",
       "    </tr>\n",
       "    <tr>\n",
       "      <th>5</th>\n",
       "      <td>5987</td>\n",
       "      <td>Wisconsin</td>\n",
       "      <td>Suburb</td>\n",
       "      <td>[0, 0.2[</td>\n",
       "      <td>[0, 0.2[</td>\n",
       "      <td>[0.18, 1[</td>\n",
       "      <td>[10000, 12000[</td>\n",
       "    </tr>\n",
       "    <tr>\n",
       "      <th>6</th>\n",
       "      <td>3710</td>\n",
       "      <td>Utah</td>\n",
       "      <td>Suburb</td>\n",
       "      <td>[0, 0.2[</td>\n",
       "      <td>[0.4, 0.6[</td>\n",
       "      <td>[0.18, 1[</td>\n",
       "      <td>[6000, 8000[</td>\n",
       "    </tr>\n",
       "    <tr>\n",
       "      <th>7</th>\n",
       "      <td>7177</td>\n",
       "      <td>North Carolina</td>\n",
       "      <td>Suburb</td>\n",
       "      <td>[0.2, 0.4[</td>\n",
       "      <td>[0.2, 0.4[</td>\n",
       "      <td>[0.18, 1[</td>\n",
       "      <td>[8000, 10000[</td>\n",
       "    </tr>\n",
       "  </tbody>\n",
       "</table>\n",
       "</div>"
      ],
      "text/plain": [
       "   district_id           state  locale pct_black/hispanic pct_free/reduced  \\\n",
       "0         8815        Illinois  Suburb           [0, 0.2[         [0, 0.2[   \n",
       "2         4921            Utah  Suburb           [0, 0.2[       [0.2, 0.4[   \n",
       "5         5987       Wisconsin  Suburb           [0, 0.2[         [0, 0.2[   \n",
       "6         3710            Utah  Suburb           [0, 0.2[       [0.4, 0.6[   \n",
       "7         7177  North Carolina  Suburb         [0.2, 0.4[       [0.2, 0.4[   \n",
       "\n",
       "  county_connections_ratio    pp_total_raw  \n",
       "0                [0.18, 1[  [14000, 16000[  \n",
       "2                [0.18, 1[    [6000, 8000[  \n",
       "5                [0.18, 1[  [10000, 12000[  \n",
       "6                [0.18, 1[    [6000, 8000[  \n",
       "7                [0.18, 1[   [8000, 10000[  "
      ]
     },
     "execution_count": 5,
     "metadata": {},
     "output_type": "execute_result"
    }
   ],
   "source": [
    "districts = pd.read_csv(data_dir /\"districts_info.csv\")\n",
    "districts.dropna(inplace = True)\n",
    "districts.head()"
   ]
  },
  {
   "cell_type": "markdown",
   "id": "ea0670a3",
   "metadata": {},
   "source": [
    "## Average anonymized data ranges\n",
    "\n",
    "Data was anonymized."
   ]
  },
  {
   "cell_type": "code",
   "execution_count": 6,
   "id": "260ea7e0",
   "metadata": {
    "ExecuteTime": {
     "end_time": "2021-09-17T18:36:02.744293Z",
     "start_time": "2021-09-17T18:36:02.717528Z"
    }
   },
   "outputs": [
    {
     "data": {
      "text/html": [
       "<div>\n",
       "<style scoped>\n",
       "    .dataframe tbody tr th:only-of-type {\n",
       "        vertical-align: middle;\n",
       "    }\n",
       "\n",
       "    .dataframe tbody tr th {\n",
       "        vertical-align: top;\n",
       "    }\n",
       "\n",
       "    .dataframe thead th {\n",
       "        text-align: right;\n",
       "    }\n",
       "</style>\n",
       "<table border=\"1\" class=\"dataframe\">\n",
       "  <thead>\n",
       "    <tr style=\"text-align: right;\">\n",
       "      <th></th>\n",
       "      <th>district_id</th>\n",
       "      <th>state</th>\n",
       "      <th>locale</th>\n",
       "      <th>pct_black/hispanic</th>\n",
       "      <th>pct_free/reduced</th>\n",
       "      <th>county_connections_ratio</th>\n",
       "      <th>pp_total_raw</th>\n",
       "    </tr>\n",
       "  </thead>\n",
       "  <tbody>\n",
       "    <tr>\n",
       "      <th>0</th>\n",
       "      <td>8815</td>\n",
       "      <td>Illinois</td>\n",
       "      <td>Suburb</td>\n",
       "      <td>0.1</td>\n",
       "      <td>0.1</td>\n",
       "      <td>0.59</td>\n",
       "      <td>15000.0</td>\n",
       "    </tr>\n",
       "    <tr>\n",
       "      <th>2</th>\n",
       "      <td>4921</td>\n",
       "      <td>Utah</td>\n",
       "      <td>Suburb</td>\n",
       "      <td>0.1</td>\n",
       "      <td>0.3</td>\n",
       "      <td>0.59</td>\n",
       "      <td>7000.0</td>\n",
       "    </tr>\n",
       "    <tr>\n",
       "      <th>5</th>\n",
       "      <td>5987</td>\n",
       "      <td>Wisconsin</td>\n",
       "      <td>Suburb</td>\n",
       "      <td>0.1</td>\n",
       "      <td>0.1</td>\n",
       "      <td>0.59</td>\n",
       "      <td>11000.0</td>\n",
       "    </tr>\n",
       "    <tr>\n",
       "      <th>6</th>\n",
       "      <td>3710</td>\n",
       "      <td>Utah</td>\n",
       "      <td>Suburb</td>\n",
       "      <td>0.1</td>\n",
       "      <td>0.5</td>\n",
       "      <td>0.59</td>\n",
       "      <td>7000.0</td>\n",
       "    </tr>\n",
       "    <tr>\n",
       "      <th>7</th>\n",
       "      <td>7177</td>\n",
       "      <td>North Carolina</td>\n",
       "      <td>Suburb</td>\n",
       "      <td>0.3</td>\n",
       "      <td>0.3</td>\n",
       "      <td>0.59</td>\n",
       "      <td>9000.0</td>\n",
       "    </tr>\n",
       "  </tbody>\n",
       "</table>\n",
       "</div>"
      ],
      "text/plain": [
       "   district_id           state  locale  pct_black/hispanic  pct_free/reduced  \\\n",
       "0         8815        Illinois  Suburb                 0.1               0.1   \n",
       "2         4921            Utah  Suburb                 0.1               0.3   \n",
       "5         5987       Wisconsin  Suburb                 0.1               0.1   \n",
       "6         3710            Utah  Suburb                 0.1               0.5   \n",
       "7         7177  North Carolina  Suburb                 0.3               0.3   \n",
       "\n",
       "   county_connections_ratio  pp_total_raw  \n",
       "0                      0.59       15000.0  \n",
       "2                      0.59        7000.0  \n",
       "5                      0.59       11000.0  \n",
       "6                      0.59        7000.0  \n",
       "7                      0.59        9000.0  "
      ]
     },
     "execution_count": 6,
     "metadata": {},
     "output_type": "execute_result"
    }
   ],
   "source": [
    "from statistics import mean\n",
    "\n",
    "for col in ['pct_black/hispanic', 'pct_free/reduced', 'pp_total_raw', 'county_connections_ratio']:\n",
    "    districts[col] = districts[col].apply(lambda val: mean([float(x) for x in val[1:-1].split(',')]))\n",
    "\n",
    "districts.head()"
   ]
  },
  {
   "cell_type": "code",
   "execution_count": 7,
   "id": "94ed513c",
   "metadata": {
    "hidden": true
   },
   "outputs": [],
   "source": [
    "#---- DASK -----#\n",
    "# import dask.dataframe as dd\n",
    "\n",
    "# # engagement_data_sample = pd.read_csv(data_dir / \"engagement_data/1000.csv\")\n",
    "\n",
    "# all_file_names = list(data_dir.glob(\"engagement_data/*.csv\"))\n",
    "\n",
    "# data_of_district = []\n",
    "\n",
    "# for filename in all_file_names:\n",
    "#     # df = pd.read_csv(filename, index_col=None, header=0)\n",
    "#     df = dd.read_csv(filename, header=0, assume_missing=True)\n",
    "#     district_id = filename.stem\n",
    "#     df[\"district_id\"] = district_id\n",
    "#     data_of_district.append(df)\n",
    "    \n",
    "# engagement = dd.multi.concat(data_of_district)\n",
    "# # del data_of_district\n",
    "# engagement = engagement.reset_index(drop=True)\n",
    "# engagement.head()\n",
    "\n",
    "# products = dd.read_csv(data_dir / \"products_info.csv\")\n",
    "# print(engagement['lp_id'].nunique().compute())\n",
    "# print(products['LP ID'].nunique().compute())\n",
    "\n",
    "# districts = dd.read_csv(data_dir /\"districts_info.csv\")\n",
    "# districts.head()"
   ]
  },
  {
   "cell_type": "markdown",
   "id": "058a2bf8",
   "metadata": {
    "tags": []
   },
   "source": [
    "## Merge products and engagement data - create plot of engagement for every state"
   ]
  },
  {
   "cell_type": "code",
   "execution_count": 8,
   "id": "6327eee7",
   "metadata": {
    "ExecuteTime": {
     "end_time": "2021-09-17T18:39:14.489111Z",
     "start_time": "2021-09-17T18:39:03.693261Z"
    }
   },
   "outputs": [
    {
     "name": "stdout",
     "output_type": "stream",
     "text": [
      "8646\n",
      "372\n"
     ]
    },
    {
     "data": {
      "text/html": [
       "<div>\n",
       "<style scoped>\n",
       "    .dataframe tbody tr th:only-of-type {\n",
       "        vertical-align: middle;\n",
       "    }\n",
       "\n",
       "    .dataframe tbody tr th {\n",
       "        vertical-align: top;\n",
       "    }\n",
       "\n",
       "    .dataframe thead th {\n",
       "        text-align: right;\n",
       "    }\n",
       "</style>\n",
       "<table border=\"1\" class=\"dataframe\">\n",
       "  <thead>\n",
       "    <tr style=\"text-align: right;\">\n",
       "      <th></th>\n",
       "      <th>LP ID</th>\n",
       "      <th>URL</th>\n",
       "      <th>Product Name</th>\n",
       "      <th>Provider/Company Name</th>\n",
       "      <th>Sector(s)</th>\n",
       "      <th>Primary Essential Function</th>\n",
       "      <th>Basic_category</th>\n",
       "      <th>time</th>\n",
       "      <th>lp_id</th>\n",
       "      <th>pct_access</th>\n",
       "      <th>engagement_index</th>\n",
       "      <th>district_id</th>\n",
       "    </tr>\n",
       "  </thead>\n",
       "  <tbody>\n",
       "    <tr>\n",
       "      <th>0</th>\n",
       "      <td>13117</td>\n",
       "      <td>https://www.splashmath.com</td>\n",
       "      <td>SplashLearn</td>\n",
       "      <td>StudyPad Inc.</td>\n",
       "      <td>PreK-12</td>\n",
       "      <td>LC - Digital Learning Platforms</td>\n",
       "      <td>LC</td>\n",
       "      <td>2020-01-03</td>\n",
       "      <td>13117.0</td>\n",
       "      <td>0.04</td>\n",
       "      <td>7.37</td>\n",
       "      <td>3188</td>\n",
       "    </tr>\n",
       "    <tr>\n",
       "      <th>1</th>\n",
       "      <td>13117</td>\n",
       "      <td>https://www.splashmath.com</td>\n",
       "      <td>SplashLearn</td>\n",
       "      <td>StudyPad Inc.</td>\n",
       "      <td>PreK-12</td>\n",
       "      <td>LC - Digital Learning Platforms</td>\n",
       "      <td>LC</td>\n",
       "      <td>2020-01-13</td>\n",
       "      <td>13117.0</td>\n",
       "      <td>0.04</td>\n",
       "      <td>1.30</td>\n",
       "      <td>3188</td>\n",
       "    </tr>\n",
       "    <tr>\n",
       "      <th>2</th>\n",
       "      <td>13117</td>\n",
       "      <td>https://www.splashmath.com</td>\n",
       "      <td>SplashLearn</td>\n",
       "      <td>StudyPad Inc.</td>\n",
       "      <td>PreK-12</td>\n",
       "      <td>LC - Digital Learning Platforms</td>\n",
       "      <td>LC</td>\n",
       "      <td>2020-01-17</td>\n",
       "      <td>13117.0</td>\n",
       "      <td>0.17</td>\n",
       "      <td>9.50</td>\n",
       "      <td>3188</td>\n",
       "    </tr>\n",
       "    <tr>\n",
       "      <th>3</th>\n",
       "      <td>13117</td>\n",
       "      <td>https://www.splashmath.com</td>\n",
       "      <td>SplashLearn</td>\n",
       "      <td>StudyPad Inc.</td>\n",
       "      <td>PreK-12</td>\n",
       "      <td>LC - Digital Learning Platforms</td>\n",
       "      <td>LC</td>\n",
       "      <td>2020-01-21</td>\n",
       "      <td>13117.0</td>\n",
       "      <td>0.00</td>\n",
       "      <td>NaN</td>\n",
       "      <td>3188</td>\n",
       "    </tr>\n",
       "    <tr>\n",
       "      <th>4</th>\n",
       "      <td>13117</td>\n",
       "      <td>https://www.splashmath.com</td>\n",
       "      <td>SplashLearn</td>\n",
       "      <td>StudyPad Inc.</td>\n",
       "      <td>PreK-12</td>\n",
       "      <td>LC - Digital Learning Platforms</td>\n",
       "      <td>LC</td>\n",
       "      <td>2020-01-23</td>\n",
       "      <td>13117.0</td>\n",
       "      <td>0.00</td>\n",
       "      <td>NaN</td>\n",
       "      <td>3188</td>\n",
       "    </tr>\n",
       "  </tbody>\n",
       "</table>\n",
       "</div>"
      ],
      "text/plain": [
       "   LP ID                         URL Product Name Provider/Company Name  \\\n",
       "0  13117  https://www.splashmath.com  SplashLearn         StudyPad Inc.   \n",
       "1  13117  https://www.splashmath.com  SplashLearn         StudyPad Inc.   \n",
       "2  13117  https://www.splashmath.com  SplashLearn         StudyPad Inc.   \n",
       "3  13117  https://www.splashmath.com  SplashLearn         StudyPad Inc.   \n",
       "4  13117  https://www.splashmath.com  SplashLearn         StudyPad Inc.   \n",
       "\n",
       "  Sector(s)       Primary Essential Function Basic_category        time  \\\n",
       "0   PreK-12  LC - Digital Learning Platforms             LC  2020-01-03   \n",
       "1   PreK-12  LC - Digital Learning Platforms             LC  2020-01-13   \n",
       "2   PreK-12  LC - Digital Learning Platforms             LC  2020-01-17   \n",
       "3   PreK-12  LC - Digital Learning Platforms             LC  2020-01-21   \n",
       "4   PreK-12  LC - Digital Learning Platforms             LC  2020-01-23   \n",
       "\n",
       "     lp_id  pct_access  engagement_index district_id  \n",
       "0  13117.0        0.04              7.37        3188  \n",
       "1  13117.0        0.04              1.30        3188  \n",
       "2  13117.0        0.17              9.50        3188  \n",
       "3  13117.0        0.00               NaN        3188  \n",
       "4  13117.0        0.00               NaN        3188  "
      ]
     },
     "metadata": {},
     "output_type": "display_data"
    }
   ],
   "source": [
    "print(engagement['lp_id'].nunique())\n",
    "print(products['LP ID'].nunique())\n",
    "\n",
    "merged_data = pd.merge(products, engagement, left_on = 'LP ID', right_on = 'lp_id')\n",
    "display(merged_data.head())"
   ]
  },
  {
   "cell_type": "code",
   "execution_count": 9,
   "id": "c001cd4b",
   "metadata": {
    "ExecuteTime": {
     "end_time": "2021-09-17T18:39:14.489111Z",
     "start_time": "2021-09-17T18:39:03.693261Z"
    }
   },
   "outputs": [
    {
     "data": {
      "text/html": [
       "<div>\n",
       "<style scoped>\n",
       "    .dataframe tbody tr th:only-of-type {\n",
       "        vertical-align: middle;\n",
       "    }\n",
       "\n",
       "    .dataframe tbody tr th {\n",
       "        vertical-align: top;\n",
       "    }\n",
       "\n",
       "    .dataframe thead th {\n",
       "        text-align: right;\n",
       "    }\n",
       "</style>\n",
       "<table border=\"1\" class=\"dataframe\">\n",
       "  <thead>\n",
       "    <tr style=\"text-align: right;\">\n",
       "      <th></th>\n",
       "      <th>LP ID</th>\n",
       "      <th>URL</th>\n",
       "      <th>Product Name</th>\n",
       "      <th>Provider/Company Name</th>\n",
       "      <th>Sector(s)</th>\n",
       "      <th>Primary Essential Function</th>\n",
       "      <th>Basic_category</th>\n",
       "      <th>time</th>\n",
       "      <th>lp_id</th>\n",
       "      <th>pct_access</th>\n",
       "      <th>engagement_index</th>\n",
       "      <th>district_id</th>\n",
       "      <th>state</th>\n",
       "      <th>locale</th>\n",
       "      <th>pct_black/hispanic</th>\n",
       "      <th>pct_free/reduced</th>\n",
       "      <th>county_connections_ratio</th>\n",
       "      <th>pp_total_raw</th>\n",
       "    </tr>\n",
       "  </thead>\n",
       "  <tbody>\n",
       "    <tr>\n",
       "      <th>0</th>\n",
       "      <td>13117</td>\n",
       "      <td>https://www.splashmath.com</td>\n",
       "      <td>SplashLearn</td>\n",
       "      <td>StudyPad Inc.</td>\n",
       "      <td>PreK-12</td>\n",
       "      <td>LC - Digital Learning Platforms</td>\n",
       "      <td>LC</td>\n",
       "      <td>2020-01-10</td>\n",
       "      <td>13117.0</td>\n",
       "      <td>0.09</td>\n",
       "      <td>1.73</td>\n",
       "      <td>1204</td>\n",
       "      <td>Utah</td>\n",
       "      <td>Suburb</td>\n",
       "      <td>0.1</td>\n",
       "      <td>0.1</td>\n",
       "      <td>0.59</td>\n",
       "      <td>7000.0</td>\n",
       "    </tr>\n",
       "    <tr>\n",
       "      <th>1</th>\n",
       "      <td>13117</td>\n",
       "      <td>https://www.splashmath.com</td>\n",
       "      <td>SplashLearn</td>\n",
       "      <td>StudyPad Inc.</td>\n",
       "      <td>PreK-12</td>\n",
       "      <td>LC - Digital Learning Platforms</td>\n",
       "      <td>LC</td>\n",
       "      <td>2020-02-04</td>\n",
       "      <td>13117.0</td>\n",
       "      <td>0.09</td>\n",
       "      <td>0.86</td>\n",
       "      <td>1204</td>\n",
       "      <td>Utah</td>\n",
       "      <td>Suburb</td>\n",
       "      <td>0.1</td>\n",
       "      <td>0.1</td>\n",
       "      <td>0.59</td>\n",
       "      <td>7000.0</td>\n",
       "    </tr>\n",
       "    <tr>\n",
       "      <th>2</th>\n",
       "      <td>13117</td>\n",
       "      <td>https://www.splashmath.com</td>\n",
       "      <td>SplashLearn</td>\n",
       "      <td>StudyPad Inc.</td>\n",
       "      <td>PreK-12</td>\n",
       "      <td>LC - Digital Learning Platforms</td>\n",
       "      <td>LC</td>\n",
       "      <td>2020-03-18</td>\n",
       "      <td>13117.0</td>\n",
       "      <td>0.08</td>\n",
       "      <td>1.69</td>\n",
       "      <td>1204</td>\n",
       "      <td>Utah</td>\n",
       "      <td>Suburb</td>\n",
       "      <td>0.1</td>\n",
       "      <td>0.1</td>\n",
       "      <td>0.59</td>\n",
       "      <td>7000.0</td>\n",
       "    </tr>\n",
       "    <tr>\n",
       "      <th>3</th>\n",
       "      <td>13117</td>\n",
       "      <td>https://www.splashmath.com</td>\n",
       "      <td>SplashLearn</td>\n",
       "      <td>StudyPad Inc.</td>\n",
       "      <td>PreK-12</td>\n",
       "      <td>LC - Digital Learning Platforms</td>\n",
       "      <td>LC</td>\n",
       "      <td>2020-07-01</td>\n",
       "      <td>13117.0</td>\n",
       "      <td>0.00</td>\n",
       "      <td>NaN</td>\n",
       "      <td>1204</td>\n",
       "      <td>Utah</td>\n",
       "      <td>Suburb</td>\n",
       "      <td>0.1</td>\n",
       "      <td>0.1</td>\n",
       "      <td>0.59</td>\n",
       "      <td>7000.0</td>\n",
       "    </tr>\n",
       "    <tr>\n",
       "      <th>4</th>\n",
       "      <td>13117</td>\n",
       "      <td>https://www.splashmath.com</td>\n",
       "      <td>SplashLearn</td>\n",
       "      <td>StudyPad Inc.</td>\n",
       "      <td>PreK-12</td>\n",
       "      <td>LC - Digital Learning Platforms</td>\n",
       "      <td>LC</td>\n",
       "      <td>2020-07-30</td>\n",
       "      <td>13117.0</td>\n",
       "      <td>0.08</td>\n",
       "      <td>2.50</td>\n",
       "      <td>1204</td>\n",
       "      <td>Utah</td>\n",
       "      <td>Suburb</td>\n",
       "      <td>0.1</td>\n",
       "      <td>0.1</td>\n",
       "      <td>0.59</td>\n",
       "      <td>7000.0</td>\n",
       "    </tr>\n",
       "  </tbody>\n",
       "</table>\n",
       "</div>"
      ],
      "text/plain": [
       "   LP ID                         URL Product Name Provider/Company Name  \\\n",
       "0  13117  https://www.splashmath.com  SplashLearn         StudyPad Inc.   \n",
       "1  13117  https://www.splashmath.com  SplashLearn         StudyPad Inc.   \n",
       "2  13117  https://www.splashmath.com  SplashLearn         StudyPad Inc.   \n",
       "3  13117  https://www.splashmath.com  SplashLearn         StudyPad Inc.   \n",
       "4  13117  https://www.splashmath.com  SplashLearn         StudyPad Inc.   \n",
       "\n",
       "  Sector(s)       Primary Essential Function Basic_category        time  \\\n",
       "0   PreK-12  LC - Digital Learning Platforms             LC  2020-01-10   \n",
       "1   PreK-12  LC - Digital Learning Platforms             LC  2020-02-04   \n",
       "2   PreK-12  LC - Digital Learning Platforms             LC  2020-03-18   \n",
       "3   PreK-12  LC - Digital Learning Platforms             LC  2020-07-01   \n",
       "4   PreK-12  LC - Digital Learning Platforms             LC  2020-07-30   \n",
       "\n",
       "     lp_id  pct_access  engagement_index  district_id state  locale  \\\n",
       "0  13117.0        0.09              1.73         1204  Utah  Suburb   \n",
       "1  13117.0        0.09              0.86         1204  Utah  Suburb   \n",
       "2  13117.0        0.08              1.69         1204  Utah  Suburb   \n",
       "3  13117.0        0.00               NaN         1204  Utah  Suburb   \n",
       "4  13117.0        0.08              2.50         1204  Utah  Suburb   \n",
       "\n",
       "   pct_black/hispanic  pct_free/reduced  county_connections_ratio  \\\n",
       "0                 0.1               0.1                      0.59   \n",
       "1                 0.1               0.1                      0.59   \n",
       "2                 0.1               0.1                      0.59   \n",
       "3                 0.1               0.1                      0.59   \n",
       "4                 0.1               0.1                      0.59   \n",
       "\n",
       "   pp_total_raw  \n",
       "0        7000.0  \n",
       "1        7000.0  \n",
       "2        7000.0  \n",
       "3        7000.0  \n",
       "4        7000.0  "
      ]
     },
     "metadata": {},
     "output_type": "display_data"
    }
   ],
   "source": [
    "merged_data['district_id'] = merged_data['district_id'].astype('int64')\n",
    "merged_data = pd.merge(merged_data, districts, on = 'district_id')\n",
    "display(merged_data.head())"
   ]
  },
  {
   "cell_type": "code",
   "execution_count": 10,
   "id": "ba2fae4c",
   "metadata": {
    "ExecuteTime": {
     "end_time": "2021-09-17T18:39:15.543265Z",
     "start_time": "2021-09-17T18:39:14.490874Z"
    }
   },
   "outputs": [
    {
     "data": {
      "text/plain": [
       "Index(['LP ID', 'Product Name', 'Provider/Company Name', 'Sector(s)',\n",
       "       'Primary Essential Function', 'Basic_category', 'time', 'pct_access',\n",
       "       'engagement_index', 'district_id', 'state', 'locale',\n",
       "       'pct_black/hispanic', 'pct_free/reduced', 'county_connections_ratio',\n",
       "       'pp_total_raw'],\n",
       "      dtype='object')"
      ]
     },
     "execution_count": 10,
     "metadata": {},
     "output_type": "execute_result"
    }
   ],
   "source": [
    "merged_data.drop(['URL', 'lp_id'], axis = 1, inplace = True)\n",
    "merged_data.columns"
   ]
  },
  {
   "cell_type": "code",
   "execution_count": 11,
   "id": "783007d4-3124-4590-ba04-f536366fce1b",
   "metadata": {},
   "outputs": [],
   "source": [
    "# Add time as integer\n",
    "timeAsInt = [int(\"\".join(x.split(\"-\"))) for x in merged_data['time']]\n",
    "merged_data['time_as_int'] = timeAsInt"
   ]
  },
  {
   "cell_type": "markdown",
   "id": "b6f9b2b5-1d83-49ff-a302-e9f27cb566eb",
   "metadata": {},
   "source": [
    "## Covid19 - Important dates 2020\n",
    "\n",
    "- **March 11** — WHO Declares COVID-19 a Pandemic\n",
    "- ...\n",
    "\n",
    "taken from [this timeline](https://www.ajmc.com/view/a-timeline-of-covid19-developments-in-2020)."
   ]
  },
  {
   "cell_type": "code",
   "execution_count": 12,
   "id": "78dd9466-e2cc-4442-8714-c349d5a311d4",
   "metadata": {},
   "outputs": [],
   "source": [
    "covid_date_who_pandemic = 20200311\n",
    "\n",
    "# District type pre-covid\n",
    "total = len(merged_data)\n",
    "merged_data_pre_covid = merged_data[merged_data['time_as_int'] <= 20200311]\n",
    "merged_data_post_covid = merged_data[merged_data['time_as_int'] > 20200311]"
   ]
  },
  {
   "cell_type": "code",
   "execution_count": 21,
   "id": "afe80d76-68ee-49d9-b7bc-0f0e3eb75f8e",
   "metadata": {},
   "outputs": [
    {
     "data": {
      "image/png": "[encoded data removed]",
      "text/plain": [
       "<Figure size 432x288 with 4 Axes>"
      ]
     },
     "metadata": {
      "needs_background": "light"
     },
     "output_type": "display_data"
    },
    {
     "data": {
      "image/png": "[encoded data removed]",
      "text/plain": [
       "<Figure size 360x360 with 1 Axes>"
      ]
     },
     "metadata": {
      "needs_background": "light"
     },
     "output_type": "display_data"
    },
    {
     "data": {
      "image/png": "[encoded data removed]",
      "text/plain": [
       "<Figure size 360x360 with 1 Axes>"
      ]
     },
     "metadata": {
      "needs_background": "light"
     },
     "output_type": "display_data"
    }
   ],
   "source": [
    "# District types\n",
    "labels = list(merged_data['locale'].unique())\n",
    "# Only after finishing this I realized that I could've just used the districts table but it was a good exercise... 😅\n",
    "district_types = merged_data.groupby(by=['district_id', 'locale'], as_index=False).count()['locale'].value_counts()\n",
    "\n",
    "district_types_pre = merged_data_pre_covid.groupby(by=['district_id', 'locale'], as_index=False).count()['locale'].value_counts()\n",
    "district_types_post = merged_data_post_covid.groupby(by=['district_id', 'locale'], as_index=False).count()['locale'].value_counts()\n",
    "\n",
    "pre_mean = merged_data_pre_covid.groupby(by=['district_id'], as_index=False).mean()['pct_black/hispanic']\n",
    "post_mean = merged_data_post_covid.groupby(by=['district_id'], as_index=False).mean()['pct_black/hispanic']\n",
    "\n",
    "\n",
    "# engagement_by_district = merged_data.groupby(['district_id', 'pct_black/hispanic']).agg({'engagement_index': 'mean'}).reset_index()\n",
    "# print(engagement_by_district.head())\n",
    "\n",
    "# race\n",
    "# engagement_by_race = merged_data.groupby(['district', 'pct_black/hispanic']).agg({'': ''})\n",
    "\n",
    "# social background\n",
    "\n",
    "\n",
    "\n",
    "plt.subplot(2,3,1)\n",
    "\n",
    "colors = sns.color_palette('pastel')[1:5]\n",
    "plt.pie(district_types, labels=labels, colors=colors, autopct='%.0f%%')\n",
    "plt.title('Kinds of districts - total')\n",
    "\n",
    "plt.subplot(2,3,2)\n",
    "\n",
    "plt.pie(district_types_pre, labels=labels, colors=colors, autopct='%.0f%%')\n",
    "plt.title('Kinds of districts - pre')\n",
    "\n",
    "plt.subplot(2,3,3)\n",
    "\n",
    "plt.pie(district_types_post, labels=labels, colors=colors, autopct='%.0f%%')\n",
    "plt.title('Kinds of districts - post')\n",
    "\n",
    "plt.subplot(2,3,4)\n",
    "sns.displot(pre_mean)\n",
    "# plt.pie(black_hispanic_pre, labels=['black/hispanic', 'other'], colors=colors, autopct='%.0f%%')\n",
    "# plt.title('black/hispanic - pre')\n",
    "\n",
    "plt.subplot(2,3,5)\n",
    "sns.displot(post_mean)\n",
    "\n",
    "# sns.lineplot(data=engagement_by_district, y=\"pct_black/hispanic\")\n",
    "\n",
    "plt.show()"
   ]
  },
  {
   "cell_type": "code",
   "execution_count": null,
   "id": "e3b1a5e0-0c9b-4134-a99e-5e1c0ec77e3b",
   "metadata": {},
   "outputs": [],
   "source": [
    "\n",
    "# black_hispanic_post = merged_data_post_covid.groupby(by=['district_id', 'pct_black/hispanic'], as_index=False).count()['pct_black/hispanic'].value_counts()\n",
    "black_hispanic_pre = merged_data_pre_covid.groupby(by=['district_id'], as_index=False).mean()['pct_black/hispanic]\n",
    "# black_hispanic_pre = merged_data_pre_covid['pct_black/hispanic'].mean()\n",
    "black_hispanic_pre"
   ]
  },
  {
   "cell_type": "code",
   "execution_count": null,
   "id": "360d1be9",
   "metadata": {
    "ExecuteTime": {
     "end_time": "2021-09-17T18:39:18.650487Z",
     "start_time": "2021-09-17T18:39:15.545243Z"
    }
   },
   "outputs": [],
   "source": [
    "st_acсess = merged_data.groupby(['state', 'time']).agg({'pct_access': 'mean'}).reset_index()\n",
    "st_eng = merged_data.groupby(['state', 'time']).agg({'engagement_index': 'mean'}).reset_index()\n",
    "# locale \n",
    "loc_acсess = merged_data.groupby(['locale', 'time']).agg({'pct_access': 'mean'}).reset_index()\n",
    "loc_eng = merged_data.groupby(['locale', 'time']).agg({'engagement_index': 'mean'}).reset_index()\n",
    "cat_acсess = merged_data.groupby(['Basic_category', 'time']).agg({'pct_access': 'mean'}).reset_index()\n",
    "cat_eng = merged_data.groupby(['Basic_category', 'time']).agg({'engagement_index': 'mean'}).reset_index()\n",
    "\n",
    "# for i in [st_acсess, st_eng, loc_acсess, loc_eng, cat_acсess, cat_eng]:\n",
    "#     i['day_of_week'] = i['time'].dt.dayofweek"
   ]
  },
  {
   "cell_type": "code",
   "execution_count": 50,
   "id": "956dc5d4",
   "metadata": {
    "ExecuteTime": {
     "end_time": "2021-09-17T18:39:18.655768Z",
     "start_time": "2021-09-17T18:39:18.652726Z"
    }
   },
   "outputs": [],
   "source": [
    "def create_running_average(df: pd.DataFrame, category: str, kernel_size: int=8, out_category_prefix=\"running_average_\"):\n",
    "    runn_avg_colname = f\"{out_category_prefix}{category}\"\n",
    "    df[runn_avg_colname] = 0\n",
    "    for state in df.state:\n",
    "        state_mask = df.state == state\n",
    "        column = df.loc[state_mask, category].values\n",
    "        running_mean = np.convolve(column, np.ones(kernel_size)/kernel_size, mode=\"same\")\n",
    "        df.loc[state_mask, runn_avg_colname] = running_mean"
   ]
  },
  {
   "cell_type": "code",
   "execution_count": 14,
   "id": "4e65a26e",
   "metadata": {
    "ExecuteTime": {
     "end_time": "2021-09-17T18:39:25.683420Z",
     "start_time": "2021-09-17T18:39:18.657768Z"
    }
   },
   "outputs": [],
   "source": [
    "st_acсess.head(3)\n",
    "create_running_average(st_acсess, 'pct_access')\n",
    "create_running_average(st_eng, 'engagement_index')"
   ]
  },
  {
   "cell_type": "code",
   "execution_count": 15,
   "id": "372550c3",
   "metadata": {
    "ExecuteTime": {
     "end_time": "2021-09-17T18:39:25.835203Z",
     "start_time": "2021-09-17T18:39:25.685165Z"
    }
   },
   "outputs": [],
   "source": [
    "import plotly as py\n",
    "import plotly.express as px"
   ]
  },
  {
   "cell_type": "code",
   "execution_count": 2,
   "id": "f9a3c645-f8ea-4d51-9fa4-b6a495faf0ec",
   "metadata": {},
   "outputs": [
    {
     "data": {
      "application/vnd.jupyter.widget-view+json": {
       "model_id": "e0a9167c78924221b1640beae27ff7d5",
       "version_major": 2,
       "version_minor": 0
      },
      "text/plain": [
       "MitoWidget(analysis_name='UUID-c35e0152-bb41-44fa-9383-7a9e2f913615', code_json='{\"imports\": \"from mitosheet i…"
      ]
     },
     "metadata": {},
     "output_type": "display_data"
    }
   ],
   "source": [
    "import mitosheet\n",
    "mitosheet.sheet()"
   ]
  },
  {
   "cell_type": "code",
   "execution_count": null,
   "id": "139c3c31-50c3-4b0c-950c-429cac299ae7",
   "metadata": {},
   "outputs": [],
   "source": [
    "# MITO CODE START (DO NOT EDIT)\n",
    "\n",
    "from mitosheet import * # Import necessary functions from Mito\n",
    "register_analysis('UUID-c35e0152-bb41-44fa-9383-7a9e2f913615') # Let Mito know which analysis is being run\n",
    "\n",
    "# Imported /Users/andru/dev/__projects/data_science/kaggle/covid19-education-impact/data/districts_info.csv\n",
    "import pandas as pd\n",
    "districts_info_csv = pd.read_csv(r'/Users/andru/dev/__projects/data_science/kaggle/covid19-education-impact/data/districts_info.csv')\n",
    "\n",
    "  \n",
    "# MITO CODE END (DO NOT EDIT)"
   ]
  },
  {
   "cell_type": "code",
   "execution_count": null,
   "id": "88b45bad-72b5-4321-b17d-3d1eb678ebae",
   "metadata": {},
   "outputs": [],
   "source": []
  },
  {
   "cell_type": "code",
   "execution_count": null,
   "id": "c7d26a3b-50c4-4704-ac25-89570ab2afd3",
   "metadata": {},
   "outputs": [],
   "source": []
  },
  {
   "cell_type": "code",
   "execution_count": null,
   "id": "ffbb0734-4155-4a9e-8a9d-8143adf132e5",
   "metadata": {},
   "outputs": [],
   "source": []
  },
  {
   "cell_type": "code",
   "execution_count": null,
   "id": "664e8d4f-fb40-490a-b8c0-14a4d1bd04ca",
   "metadata": {},
   "outputs": [],
   "source": []
  }
 ],
 "metadata": {
  "interpreter": {
   "hash": "0f578a5a9c4422eaef33558e913f029167000a97fc7244e67f432e0784b40cb6"
  },
  "kernelspec": {
   "display_name": "Python 3 (ipykernel)",
   "language": "python",
   "name": "python3"
  },
  "language_info": {
   "codemirror_mode": {
    "name": "ipython",
    "version": 3
   },
   "file_extension": ".py",
   "mimetype": "text/x-python",
   "name": "python",
   "nbconvert_exporter": "python",
   "pygments_lexer": "ipython3",
   "version": "3.9.7"
  },
  "toc": {
   "base_numbering": 1,
   "nav_menu": {},
   "number_sections": true,
   "sideBar": true,
   "skip_h1_title": false,
   "title_cell": "Table of Contents",
   "title_sidebar": "Contents",
   "toc_cell": false,
   "toc_position": {},
   "toc_section_display": true,
   "toc_window_display": false
  }
 },
 "nbformat": 4,
 "nbformat_minor": 5
}
